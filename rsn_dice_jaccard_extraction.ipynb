{
 "cells": [
  {
   "cell_type": "code",
   "execution_count": 2,
   "outputs": [],
   "source": [
    "%matplotlib inline\n",
    "from __future__ import print_function\n",
    "import numpy as np\n",
    "import pandas as pd\n",
    "import matplotlib.pyplot as plt\n",
    "import nibabel as nib\n",
    "from nilearn import image as nimg\n",
    "\n",
    "from nilearn import plotting as nplot\n",
    "from nipype.algorithms.metrics import Overlap"
   ],
   "metadata": {
    "collapsed": false,
    "pycharm": {
     "name": "#%%\n"
    }
   }
  },
  {
   "cell_type": "markdown",
   "source": [
    "# RS NETWORKS V2"
   ],
   "metadata": {
    "collapsed": false,
    "pycharm": {
     "name": "#%% md\n"
    }
   }
  },
  {
   "cell_type": "code",
   "execution_count": 124,
   "outputs": [],
   "source": [
    "ad_v2_oasis3_mean = [f\"rs_networks_V2_AD_OASIS3_mean_component_ica_s_all_{i:04}\" for i in range(18)]\n",
    "cn_v2_oasis3_mean = [f\"rs_networks_V2_CN_OASIS3_mean_component_ica_s_all_{i:04}\" for i in range(18)]\n",
    "ad_v2_oasis3_tmap = [f\"rs_networks_V2_AD_OASIS3_tmap_component_ica_s1_{i:04}\" for i in range(18)]\n",
    "cn_v2_oasis3_tmap = [f\"rs_networks_V2_CN_OASIS3_tmap_component_ica_s1_{i:04}\" for i in range(18)]\n",
    "ad_v2_oasis3_std = [f\"rs_networks_V2_AD_OASIS3_std_component_ica_s1_{i:04}\" for i in range(18)]\n",
    "cn_v2_oasis3_std = [f\"rs_networks_V2_CN_OASIS3_std_component_ica_s1_{i:04}\" for i in range(18)]\n",
    "\n",
    "relevant_path_cn_v2_oasis3 = '/run/media/kevrodz/Salvador/ADNI3_KEV_CLAUDIA/rs-networks_V2_CN_OASIS3/'\n",
    "relevant_path_ad_v2_oasis3 = '/run/media/kevrodz/Salvador/ADNI3_KEV_CLAUDIA/rs-networks_V2_AD_OASIS3/'\n",
    "\n",
    "ad_v2_adni3_v1_mean = [f\"rs_networks_V2_AD_ADNI3_V1_mean_component_ica_s_all_{i:04}\" for i in range(18)]\n",
    "ad_v2_adni3_v2_mean = [f\"rs_networks_V2_AD_ADNI3_V2_mean_component_ica_s_all_{i:04}\" for i in range(18)]\n",
    "mci_v2_adni3_v1_mean = [f\"rs_networks_V2_MCI_ADNI3_V1_mean_component_ica_s_all_{i:04}\" for i in range(18)]\n",
    "mci_v2_adni3_v2_mean = [f\"rs_networks_V2_MCI_ADNI3_V2_mean_component_ica_s_all_{i:04}\" for i in range(18)]\n",
    "cn_v2_adni3_mean = [f\"rs_networks_V2_CN_ADNI3_mean_component_ica_s_all_{i:04}\" for i in range(18)]\n",
    "\n",
    "ad_v2_adni3_v1_tmap = [f\"rs_networks_V2_AD_ADNI3_V1_tmap_component_ica_s1_{i:04}\" for i in range(18)]\n",
    "ad_v2_adni3_v2_tmap = [f\"rs_networks_V2_AD_ADNI3_V2_tmap_component_ica_s1_{i:04}\" for i in range(18)]\n",
    "mci_v2_adni3_v1_tmap = [f\"rs_networks_V2_MCI_ADNI3_V1_tmap_component_ica_s1_{i:04}\" for i in range(18)]\n",
    "mci_v2_adni3_v2_tmap = [f\"rs_networks_V2_MCI_ADNI3_V2_tmap_component_ica_s1_{i:04}\" for i in range(18)]\n",
    "cn_v2_adni3_tmap = [f\"rs_networks_V2_CN_ADNI3_tmap_component_ica_s1_{i:04}\" for i in range(18)]\n",
    "\n",
    "ad_v2_adni3_v1_std = [f\"rs_networks_V2_AD_ADNI3_V1_std_component_ica_s1_{i:04}\" for i in range(18)]\n",
    "ad_v2_adni3_v2_std = [f\"rs_networks_V2_AD_ADNI3_V2_std_component_ica_s1_{i:04}\" for i in range(18)]\n",
    "mci_v2_adni3_v1_std = [f\"rs_networks_V2_MCI_ADNI3_V1_std_component_ica_s1_{i:04}\" for i in range(18)]\n",
    "mci_v2_adni3_v2_std = [f\"rs_networks_V2_MCI_ADNI3_V2_std_component_ica_s1_{i:04}\" for i in range(18)]\n",
    "cn_v2_adni3_std = [f\"rs_networks_V2_CN_ADNI3_std_component_ica_s1_{i:04}\" for i in range(18)]\n",
    "\n",
    "relevant_path_ad_v2_adni3_v1 = '/run/media/kevrodz/Salvador/ADNI3_KEV_CLAUDIA/rs-networks_V2_AD_ADNI3_V1/'\n",
    "relevant_path_ad_v2_adni3_v2 = '/run/media/kevrodz/Salvador/ADNI3_KEV_CLAUDIA/rs-networks_V2_AD_ADNI3_V2/'\n",
    "relevant_path_mci_v2_adni3_v1 = '/run/media/kevrodz/Salvador/ADNI3_KEV_CLAUDIA/rs-networks_V2_MCI_ADNI3_V1/'\n",
    "relevant_path_mci_v2_adni3_v2 = '/run/media/kevrodz/Salvador/ADNI3_KEV_CLAUDIA/rs-networks_V2_MCI_ADNI3_V2/'\n",
    "relevant_path_cn_v2_adni3 = '/run/media/kevrodz/Salvador/ADNI3_KEV_CLAUDIA/rs-networks_V2_CN_ADNI3/'\n",
    "\n",
    "rs_networks_v2 = ['DMN_functional_MNI2mm', 'DMN_2mm_z3', 'dDMN', 'vDMN', 'ECN_functional_MNI2mm', 'LECN', 'RECN', 'PMN_2mm_z3', 'anterior_Salience', 'post_Salience',\n",
    "                  'Auditory', 'Basal_Ganglia', 'high_Visual', 'prim_Visual', 'Visuospatial', 'Sensorimotor', 'Language', 'Precuneus']"
   ],
   "metadata": {
    "collapsed": false,
    "pycharm": {
     "name": "#%%\n"
    }
   }
  },
  {
   "cell_type": "code",
   "execution_count": 19,
   "outputs": [],
   "source": [
    "dice = []\n",
    "jaccard = []\n",
    "volume_difference = []\n",
    "results_v2_oasis3 = []\n",
    "\n",
    "for i in range(len(cn_v2_oasis3_mean)):\n",
    "    cn = relevant_path_cn_v2_oasis3 + cn_v2_oasis3_mean[i] + '.nii'\n",
    "    ad = relevant_path_ad_v2_oasis3 + ad_v2_oasis3_mean[i] + '.nii'\n",
    "\n",
    "    overlap = Overlap()\n",
    "    overlap.inputs.volume1 = cn\n",
    "    overlap.inputs.volume2 = ad\n",
    "    overlap.inputs.out_file = '/run/media/kevrodz/Salvador/ADNI3_KEV_CLAUDIA/rs-networks_mean_std_by_group/' + 'diff_' + ad_v2_oasis3_mean[i] + '.nii'\n",
    "    res = overlap.run()\n",
    "    results_v2_oasis3.append(res.outputs)\n",
    "    dice.append(res.outputs.dice)\n",
    "    jaccard.append(res.outputs.jaccard)\n",
    "    volume_difference.append(res.outputs.volume_difference)"
   ],
   "metadata": {
    "collapsed": false,
    "pycharm": {
     "name": "#%%\n"
    }
   }
  },
  {
   "cell_type": "code",
   "execution_count": 26,
   "outputs": [],
   "source": [
    "oasis3_rs_networks_v2 = pd.DataFrame({'rs_network': rs_networks_v2,\n",
    "                                      'Dice': dice,\n",
    "                                      'Jaccard': jaccard,\n",
    "                                      'volume_difference': volume_difference})\n",
    "oasis3_rs_networks_v2\n",
    "oasis3_rs_networks_v2.to_csv('/run/media/kevrodz/Salvador/ADNI3_KEV_CLAUDIA/rs-networks_mean_std_by_group/oasis3_rs_networks_v2.csv', index=False)\n",
    "oasis3_rs_networks_v2.to_excel('/run/media/kevrodz/Salvador/ADNI3_KEV_CLAUDIA/rs-networks_mean_std_by_group/oasis3_rs_networks_v2.xlsx', sheet_name='rs_networks_diff')"
   ],
   "metadata": {
    "collapsed": false,
    "pycharm": {
     "name": "#%%\n"
    }
   }
  },
  {
   "cell_type": "code",
   "execution_count": 27,
   "outputs": [],
   "source": [
    "dice = []\n",
    "jaccard = []\n",
    "volume_difference = []\n",
    "results_v2_oasis3 = []\n",
    "\n",
    "for i in range(len(cn_v2_oasis3_std)):\n",
    "    cn = relevant_path_cn_v2_oasis3 + cn_v2_oasis3_std[i] + '.nii'\n",
    "    ad = relevant_path_ad_v2_oasis3 + ad_v2_oasis3_std[i] + '.nii'\n",
    "\n",
    "    overlap = Overlap()\n",
    "    overlap.inputs.volume1 = cn\n",
    "    overlap.inputs.volume2 = ad\n",
    "    overlap.inputs.out_file = '/run/media/kevrodz/Salvador/ADNI3_KEV_CLAUDIA/rs-networks_mean_std_by_group/' + 'diff_' + ad_v2_oasis3_std[i] + '.nii'\n",
    "    res = overlap.run()\n",
    "    results_v2_oasis3.append(res.outputs)\n",
    "    dice.append(res.outputs.dice)\n",
    "    jaccard.append(res.outputs.jaccard)\n",
    "    volume_difference.append(res.outputs.volume_difference)"
   ],
   "metadata": {
    "collapsed": false,
    "pycharm": {
     "name": "#%%\n"
    }
   }
  },
  {
   "cell_type": "code",
   "execution_count": 28,
   "outputs": [],
   "source": [
    "oasis3_rs_networks_v2 = pd.DataFrame({'rs_network': rs_networks_v2,\n",
    "                                      'Dice': dice,\n",
    "                                      'Jaccard': jaccard,\n",
    "                                      'volume_difference': volume_difference})\n",
    "oasis3_rs_networks_v2\n",
    "oasis3_rs_networks_v2.to_csv('/run/media/kevrodz/Salvador/ADNI3_KEV_CLAUDIA/rs-networks_mean_std_by_group/oasis3_rs_networks_v2_std.csv', index=False)\n",
    "oasis3_rs_networks_v2.to_excel('/run/media/kevrodz/Salvador/ADNI3_KEV_CLAUDIA/rs-networks_mean_std_by_group/oasis3_rs_networks_v2_std.xlsx', sheet_name='rs_networks_diff')"
   ],
   "metadata": {
    "collapsed": false,
    "pycharm": {
     "name": "#%%\n"
    }
   }
  },
  {
   "cell_type": "code",
   "execution_count": 29,
   "outputs": [],
   "source": [
    "dice = []\n",
    "jaccard = []\n",
    "volume_difference = []\n",
    "results_v2_oasis3 = []\n",
    "\n",
    "for i in range(len(cn_v2_oasis3_tmap)):\n",
    "    cn = relevant_path_cn_v2_oasis3 + cn_v2_oasis3_tmap[i] + '.nii'\n",
    "    ad = relevant_path_ad_v2_oasis3 + ad_v2_oasis3_tmap[i] + '.nii'\n",
    "\n",
    "    overlap = Overlap()\n",
    "    overlap.inputs.volume1 = cn\n",
    "    overlap.inputs.volume2 = ad\n",
    "    overlap.inputs.out_file = '/run/media/kevrodz/Salvador/ADNI3_KEV_CLAUDIA/rs-networks_mean_std_by_group/' + 'diff_' + ad_v2_oasis3_tmap[i] + '.nii'\n",
    "    res = overlap.run()\n",
    "    results_v2_oasis3.append(res.outputs)\n",
    "    dice.append(res.outputs.dice)\n",
    "    jaccard.append(res.outputs.jaccard)\n",
    "    volume_difference.append(res.outputs.volume_difference)"
   ],
   "metadata": {
    "collapsed": false,
    "pycharm": {
     "name": "#%%\n"
    }
   }
  },
  {
   "cell_type": "code",
   "execution_count": 30,
   "outputs": [],
   "source": [
    "oasis3_rs_networks_v2 = pd.DataFrame({'rs_network': rs_networks_v2,\n",
    "                                      'Dice': dice,\n",
    "                                      'Jaccard': jaccard,\n",
    "                                      'volume_difference': volume_difference})\n",
    "oasis3_rs_networks_v2\n",
    "oasis3_rs_networks_v2.to_csv('/run/media/kevrodz/Salvador/ADNI3_KEV_CLAUDIA/rs-networks_mean_std_by_group/oasis3_rs_networks_v2_tmap.csv', index=False)\n",
    "oasis3_rs_networks_v2.to_excel('/run/media/kevrodz/Salvador/ADNI3_KEV_CLAUDIA/rs-networks_mean_std_by_group/oasis3_rs_networks_v2_tmap.xlsx', sheet_name='rs_networks_diff')"
   ],
   "metadata": {
    "collapsed": false,
    "pycharm": {
     "name": "#%%\n"
    }
   }
  },
  {
   "cell_type": "code",
   "execution_count": 37,
   "outputs": [],
   "source": [
    "dice = []\n",
    "jaccard = []\n",
    "volume_difference = []\n",
    "results_v2_adni3_v2 = []\n",
    "\n",
    "for i in range(len(cn_v2_oasis3_mean)):\n",
    "    cn = relevant_path_cn_v2_adni3 + cn_v2_adni3_mean[i] + '.nii'\n",
    "    ad = relevant_path_ad_v2_adni3_v2 + ad_v2_adni3_v2_mean[i] + '.nii'\n",
    "\n",
    "    overlap = Overlap()\n",
    "    overlap.inputs.volume1 = cn\n",
    "    overlap.inputs.volume2 = ad\n",
    "    overlap.inputs.out_file = '/run/media/kevrodz/Salvador/ADNI3_KEV_CLAUDIA/rs-networks_mean_std_by_group/rs_networks_v2_ad_adni3_v2/' + 'diff_' + ad_v2_adni3_v2_mean[i] + '.nii'\n",
    "    res = overlap.run()\n",
    "    results_v2_adni3_v2.append(res.outputs)\n",
    "    dice.append(res.outputs.dice)\n",
    "    jaccard.append(res.outputs.jaccard)\n",
    "    volume_difference.append(res.outputs.volume_difference)"
   ],
   "metadata": {
    "collapsed": false,
    "pycharm": {
     "name": "#%%\n"
    }
   }
  },
  {
   "cell_type": "code",
   "execution_count": 38,
   "outputs": [],
   "source": [
    "adni3_rs_networks_v2 = pd.DataFrame({'rs_network': rs_networks_v2,\n",
    "                                      'Dice': dice,\n",
    "                                      'Jaccard': jaccard,\n",
    "                                      'volume_difference': volume_difference})\n",
    "adni3_rs_networks_v2\n",
    "adni3_rs_networks_v2.to_csv('/run/media/kevrodz/Salvador/ADNI3_KEV_CLAUDIA/rs-networks_mean_std_by_group/rs_networks_v2_adni3_v2/ad_v2_adni3_rs_networks_v2_mean.csv', index=False)\n",
    "adni3_rs_networks_v2.to_excel('/run/media/kevrodz/Salvador/ADNI3_KEV_CLAUDIA/rs-networks_mean_std_by_group/rs_networks_v2_adni3_v2/ad_v2_adni3_rs_networks_v2_mean.xlsx', sheet_name='rs_networks_diff')"
   ],
   "metadata": {
    "collapsed": false,
    "pycharm": {
     "name": "#%%\n"
    }
   }
  },
  {
   "cell_type": "code",
   "execution_count": 44,
   "outputs": [],
   "source": [
    "dice = []\n",
    "jaccard = []\n",
    "volume_difference = []\n",
    "results_v2_adni3_v2 = []\n",
    "\n",
    "for i in range(len(cn_v2_oasis3_mean)):\n",
    "    cn = relevant_path_cn_v2_adni3 + cn_v2_adni3_std[i] + '.nii'\n",
    "    ad = relevant_path_ad_v2_adni3_v2 + ad_v2_adni3_v2_std[i] + '.nii'\n",
    "\n",
    "    overlap = Overlap()\n",
    "    overlap.inputs.volume1 = cn\n",
    "    overlap.inputs.volume2 = ad\n",
    "    overlap.inputs.out_file = '/run/media/kevrodz/Salvador/ADNI3_KEV_CLAUDIA/rs-networks_mean_std_by_group/rs_networks_v2_ad_adni3_v2/' + 'diff_' + ad_v2_adni3_v2_std[i] + '.nii'\n",
    "    res = overlap.run()\n",
    "    results_v2_adni3_v2.append(res.outputs)\n",
    "    dice.append(res.outputs.dice)\n",
    "    jaccard.append(res.outputs.jaccard)\n",
    "    volume_difference.append(res.outputs.volume_difference)"
   ],
   "metadata": {
    "collapsed": false,
    "pycharm": {
     "name": "#%%\n"
    }
   }
  },
  {
   "cell_type": "code",
   "execution_count": 45,
   "outputs": [],
   "source": [
    "adni3_rs_networks_v2 = pd.DataFrame({'rs_network': rs_networks_v2,\n",
    "                                      'Dice': dice,\n",
    "                                      'Jaccard': jaccard,\n",
    "                                      'volume_difference': volume_difference})\n",
    "adni3_rs_networks_v2\n",
    "adni3_rs_networks_v2.to_csv('/run/media/kevrodz/Salvador/ADNI3_KEV_CLAUDIA/rs-networks_mean_std_by_group/rs_networks_v2_ad_adni3_v2/ad_v2_adni3_rs_networks_v2_std.csv', index=False)\n",
    "adni3_rs_networks_v2.to_excel('/run/media/kevrodz/Salvador/ADNI3_KEV_CLAUDIA/rs-networks_mean_std_by_group/rs_networks_v2_ad_adni3_v2/ad_v2_adni3_rs_networks_v2_std.xlsx', sheet_name='rs_networks_diff')"
   ],
   "metadata": {
    "collapsed": false,
    "pycharm": {
     "name": "#%%\n"
    }
   }
  },
  {
   "cell_type": "code",
   "execution_count": 48,
   "outputs": [],
   "source": [
    "dice = []\n",
    "jaccard = []\n",
    "volume_difference = []\n",
    "results_v2_adni3_v2 = []\n",
    "\n",
    "for i in range(len(cn_v2_oasis3_mean)):\n",
    "    cn = relevant_path_cn_v2_adni3 + cn_v2_adni3_tmap[i] + '.nii'\n",
    "    ad = relevant_path_ad_v2_adni3_v2 + ad_v2_adni3_v2_tmap[i] + '.nii'\n",
    "\n",
    "    overlap = Overlap()\n",
    "    overlap.inputs.volume1 = cn\n",
    "    overlap.inputs.volume2 = ad\n",
    "    overlap.inputs.out_file = '/run/media/kevrodz/Salvador/ADNI3_KEV_CLAUDIA/rs-networks_mean_std_by_group/rs_networks_v2_ad_adni3_v2/' + 'diff_' + ad_v2_adni3_v2_tmap[i] + '.nii'\n",
    "    res = overlap.run()\n",
    "    results_v2_adni3_v2.append(res.outputs)\n",
    "    dice.append(res.outputs.dice)\n",
    "    jaccard.append(res.outputs.jaccard)\n",
    "    volume_difference.append(res.outputs.volume_difference)"
   ],
   "metadata": {
    "collapsed": false,
    "pycharm": {
     "name": "#%%\n"
    }
   }
  },
  {
   "cell_type": "code",
   "execution_count": 49,
   "outputs": [],
   "source": [
    "adni3_rs_networks_v2 = pd.DataFrame({'rs_network': rs_networks_v2,\n",
    "                                      'Dice': dice,\n",
    "                                      'Jaccard': jaccard,\n",
    "                                      'volume_difference': volume_difference})\n",
    "adni3_rs_networks_v2\n",
    "adni3_rs_networks_v2.to_csv('/run/media/kevrodz/Salvador/ADNI3_KEV_CLAUDIA/rs-networks_mean_std_by_group/rs_networks_v2_ad_adni3_v2/ad_v2_adni3_rs_networks_v2_tmap.csv', index=False)\n",
    "adni3_rs_networks_v2.to_excel('/run/media/kevrodz/Salvador/ADNI3_KEV_CLAUDIA/rs-networks_mean_std_by_group/rs_networks_v2_ad_adni3_v2/ad_v2_adni3_rs_networks_v2_tmap.xlsx', sheet_name='rs_networks_diff')"
   ],
   "metadata": {
    "collapsed": false,
    "pycharm": {
     "name": "#%%\n"
    }
   }
  },
  {
   "cell_type": "code",
   "execution_count": 126,
   "outputs": [],
   "source": [
    "dice = []\n",
    "jaccard = []\n",
    "volume_difference = []\n",
    "results_v2_adni3_v1 = []\n",
    "\n",
    "for i in range(len(cn_v2_oasis3_mean)):\n",
    "    cn = relevant_path_cn_v2_adni3 + cn_v2_adni3_mean[i] + '.nii'\n",
    "    ad = relevant_path_ad_v2_adni3_v1 + ad_v2_adni3_v1_mean[i] + '.nii'\n",
    "\n",
    "    overlap = Overlap()\n",
    "    overlap.inputs.volume1 = cn\n",
    "    overlap.inputs.volume2 = ad\n",
    "    overlap.inputs.out_file = '/run/media/kevrodz/Salvador/ADNI3_KEV_CLAUDIA/rs-networks_mean_std_by_group/rs_networks_v2_ad_adni_v1/' + 'diff_' + ad_v2_adni3_v1_mean[i] + '.nii'\n",
    "    res = overlap.run()\n",
    "    results_v2_adni3_v1.append(res.outputs)\n",
    "    dice.append(res.outputs.dice)\n",
    "    jaccard.append(res.outputs.jaccard)\n",
    "    volume_difference.append(res.outputs.volume_difference)"
   ],
   "metadata": {
    "collapsed": false,
    "pycharm": {
     "name": "#%%\n"
    }
   }
  },
  {
   "cell_type": "code",
   "execution_count": 128,
   "outputs": [],
   "source": [
    "adni3_rs_networks_v1 = pd.DataFrame({'rs_network': rs_networks_v2,\n",
    "                                      'Dice': dice,\n",
    "                                      'Jaccard': jaccard,\n",
    "                                      'volume_difference': volume_difference})\n",
    "adni3_rs_networks_v1\n",
    "adni3_rs_networks_v1.to_csv('/run/media/kevrodz/Salvador/ADNI3_KEV_CLAUDIA/rs-networks_mean_std_by_group/rs_networks_v2_ad_adni_v1/ad_v1_adni3_rs_networks_v2_mean.csv', index=False)\n",
    "adni3_rs_networks_v1.to_excel('/run/media/kevrodz/Salvador/ADNI3_KEV_CLAUDIA/rs-networks_mean_std_by_group/rs_networks_v2_ad_adni_v1/ad_v1_adni3_rs_networks_v2_mean.xlsx', sheet_name='rs_networks_diff')"
   ],
   "metadata": {
    "collapsed": false,
    "pycharm": {
     "name": "#%%\n"
    }
   }
  },
  {
   "cell_type": "code",
   "execution_count": 129,
   "outputs": [],
   "source": [
    "dice = []\n",
    "jaccard = []\n",
    "volume_difference = []\n",
    "results_v2_adni3_v1 = []\n",
    "\n",
    "for i in range(len(cn_v2_oasis3_mean)):\n",
    "    cn = relevant_path_cn_v2_adni3 + cn_v2_adni3_std[i] + '.nii'\n",
    "    ad = relevant_path_ad_v2_adni3_v1 + ad_v2_adni3_v1_std[i] + '.nii'\n",
    "\n",
    "    overlap = Overlap()\n",
    "    overlap.inputs.volume1 = cn\n",
    "    overlap.inputs.volume2 = ad\n",
    "    overlap.inputs.out_file = '/run/media/kevrodz/Salvador/ADNI3_KEV_CLAUDIA/rs-networks_mean_std_by_group/rs_networks_v2_ad_adni_v1/' + 'diff_' + ad_v2_adni3_v1_std[i] + '.nii'\n",
    "    res = overlap.run()\n",
    "    results_v2_adni3_v1.append(res.outputs)\n",
    "    dice.append(res.outputs.dice)\n",
    "    jaccard.append(res.outputs.jaccard)\n",
    "    volume_difference.append(res.outputs.volume_difference)"
   ],
   "metadata": {
    "collapsed": false,
    "pycharm": {
     "name": "#%%\n"
    }
   }
  },
  {
   "cell_type": "code",
   "execution_count": 130,
   "outputs": [],
   "source": [
    "adni3_rs_networks_v1 = pd.DataFrame({'rs_network': rs_networks_v2,\n",
    "                                      'Dice': dice,\n",
    "                                      'Jaccard': jaccard,\n",
    "                                      'volume_difference': volume_difference})\n",
    "adni3_rs_networks_v1\n",
    "adni3_rs_networks_v1.to_csv('/run/media/kevrodz/Salvador/ADNI3_KEV_CLAUDIA/rs-networks_mean_std_by_group/rs_networks_v2_ad_adni_v1/ad_v1_adni3_rs_networks_v2_std.csv', index=False)\n",
    "adni3_rs_networks_v1.to_excel('/run/media/kevrodz/Salvador/ADNI3_KEV_CLAUDIA/rs-networks_mean_std_by_group/rs_networks_v2_ad_adni_v1/ad_v1_adni3_rs_networks_v2_std.xlsx', sheet_name='rs_networks_diff')"
   ],
   "metadata": {
    "collapsed": false,
    "pycharm": {
     "name": "#%%\n"
    }
   }
  },
  {
   "cell_type": "code",
   "execution_count": 131,
   "outputs": [],
   "source": [
    "dice = []\n",
    "jaccard = []\n",
    "volume_difference = []\n",
    "results_v2_adni3_v1 = []\n",
    "\n",
    "for i in range(len(cn_v2_oasis3_mean)):\n",
    "    cn = relevant_path_cn_v2_adni3 + cn_v2_adni3_tmap[i] + '.nii'\n",
    "    ad = relevant_path_ad_v2_adni3_v1 + ad_v2_adni3_v1_tmap[i] + '.nii'\n",
    "\n",
    "    overlap = Overlap()\n",
    "    overlap.inputs.volume1 = cn\n",
    "    overlap.inputs.volume2 = ad\n",
    "    overlap.inputs.out_file = '/run/media/kevrodz/Salvador/ADNI3_KEV_CLAUDIA/rs-networks_mean_std_by_group/rs_networks_v2_ad_adni_v1/' + 'diff_' + ad_v2_adni3_v1_tmap[i] + '.nii'\n",
    "    res = overlap.run()\n",
    "    results_v2_adni3_v1.append(res.outputs)\n",
    "    dice.append(res.outputs.dice)\n",
    "    jaccard.append(res.outputs.jaccard)\n",
    "    volume_difference.append(res.outputs.volume_difference)"
   ],
   "metadata": {
    "collapsed": false,
    "pycharm": {
     "name": "#%%\n"
    }
   }
  },
  {
   "cell_type": "code",
   "execution_count": 132,
   "outputs": [],
   "source": [
    "adni3_rs_networks_v1 = pd.DataFrame({'rs_network': rs_networks_v2,\n",
    "                                      'Dice': dice,\n",
    "                                      'Jaccard': jaccard,\n",
    "                                      'volume_difference': volume_difference})\n",
    "adni3_rs_networks_v1\n",
    "adni3_rs_networks_v1.to_csv('/run/media/kevrodz/Salvador/ADNI3_KEV_CLAUDIA/rs-networks_mean_std_by_group/rs_networks_v2_ad_adni_v1/ad_v1_adni3_rs_networks_v2_tmap.csv', index=False)\n",
    "adni3_rs_networks_v1.to_excel('/run/media/kevrodz/Salvador/ADNI3_KEV_CLAUDIA/rs-networks_mean_std_by_group/rs_networks_v2_ad_adni_v1/ad_v1_adni3_rs_networks_v2_tmap.xlsx', sheet_name='rs_networks_diff')"
   ],
   "metadata": {
    "collapsed": false,
    "pycharm": {
     "name": "#%%\n"
    }
   }
  },
  {
   "cell_type": "code",
   "execution_count": null,
   "outputs": [],
   "source": [],
   "metadata": {
    "collapsed": false,
    "pycharm": {
     "name": "#%%\n"
    }
   }
  },
  {
   "cell_type": "code",
   "execution_count": 54,
   "outputs": [],
   "source": [
    "dice = []\n",
    "jaccard = []\n",
    "volume_difference = []\n",
    "results_v2_adni3_v2 = []\n",
    "\n",
    "for i in range(len(cn_v2_oasis3_mean)):\n",
    "    cn = relevant_path_cn_v2_adni3 + cn_v2_adni3_mean[i] + '.nii'\n",
    "    mci = relevant_path_mci_v2_adni3_v2 + mci_v2_adni3_v2_mean[i] + '.nii'\n",
    "\n",
    "    overlap = Overlap()\n",
    "    overlap.inputs.volume1 = cn\n",
    "    overlap.inputs.volume2 = mci\n",
    "    overlap.inputs.out_file = '/run/media/kevrodz/Salvador/ADNI3_KEV_CLAUDIA/rs-networks_mean_std_by_group/rs_networks_v2_mci_adni3_v2/' + 'diff_' + mci_v2_adni3_v2_mean[i] + '.nii'\n",
    "    res = overlap.run()\n",
    "    results_v2_adni3_v2.append(res.outputs)\n",
    "    dice.append(res.outputs.dice)\n",
    "    jaccard.append(res.outputs.jaccard)\n",
    "    volume_difference.append(res.outputs.volume_difference)"
   ],
   "metadata": {
    "collapsed": false,
    "pycharm": {
     "name": "#%%\n"
    }
   }
  },
  {
   "cell_type": "code",
   "execution_count": 55,
   "outputs": [],
   "source": [
    "adni3_rs_networks_v2 = pd.DataFrame({'rs_network': rs_networks_v2,\n",
    "                                      'Dice': dice,\n",
    "                                      'Jaccard': jaccard,\n",
    "                                      'volume_difference': volume_difference})\n",
    "adni3_rs_networks_v2\n",
    "adni3_rs_networks_v2.to_csv('/run/media/kevrodz/Salvador/ADNI3_KEV_CLAUDIA/rs-networks_mean_std_by_group/rs_networks_v2_mci_adni3_v2/mci_v2_adni3_rs_networks_v2_mean.csv', index=False)\n",
    "adni3_rs_networks_v2.to_excel('/run/media/kevrodz/Salvador/ADNI3_KEV_CLAUDIA/rs-networks_mean_std_by_group/rs_networks_v2_mci_adni3_v2/mci_v2_adni3_rs_networks_v2_mean.xlsx', sheet_name='rs_networks_diff')"
   ],
   "metadata": {
    "collapsed": false,
    "pycharm": {
     "name": "#%%\n"
    }
   }
  },
  {
   "cell_type": "code",
   "execution_count": 56,
   "outputs": [],
   "source": [
    "dice = []\n",
    "jaccard = []\n",
    "volume_difference = []\n",
    "results_v2_adni3_v2 = []\n",
    "\n",
    "for i in range(len(cn_v2_oasis3_mean)):\n",
    "    cn = relevant_path_cn_v2_adni3 + cn_v2_adni3_std[i] + '.nii'\n",
    "    mci = relevant_path_mci_v2_adni3_v2 + mci_v2_adni3_v2_std[i] + '.nii'\n",
    "\n",
    "    overlap = Overlap()\n",
    "    overlap.inputs.volume1 = cn\n",
    "    overlap.inputs.volume2 = mci\n",
    "    overlap.inputs.out_file = '/run/media/kevrodz/Salvador/ADNI3_KEV_CLAUDIA/rs-networks_mean_std_by_group/rs_networks_v2_mci_adni3_v2/' + 'diff_' + mci_v2_adni3_v2_std[i] + '.nii'\n",
    "    res = overlap.run()\n",
    "    results_v2_adni3_v2.append(res.outputs)\n",
    "    dice.append(res.outputs.dice)\n",
    "    jaccard.append(res.outputs.jaccard)\n",
    "    volume_difference.append(res.outputs.volume_difference)"
   ],
   "metadata": {
    "collapsed": false,
    "pycharm": {
     "name": "#%%\n"
    }
   }
  },
  {
   "cell_type": "code",
   "execution_count": 57,
   "outputs": [],
   "source": [
    "adni3_rs_networks_v2 = pd.DataFrame({'rs_network': rs_networks_v2,\n",
    "                                      'Dice': dice,\n",
    "                                      'Jaccard': jaccard,\n",
    "                                      'volume_difference': volume_difference})\n",
    "adni3_rs_networks_v2\n",
    "adni3_rs_networks_v2.to_csv('/run/media/kevrodz/Salvador/ADNI3_KEV_CLAUDIA/rs-networks_mean_std_by_group/rs_networks_v2_mci_adni3_v2/mci_v2_adni3_rs_networks_v2_std.csv', index=False)\n",
    "adni3_rs_networks_v2.to_excel('/run/media/kevrodz/Salvador/ADNI3_KEV_CLAUDIA/rs-networks_mean_std_by_group/rs_networks_v2_mci_adni3_v2/mci_v2_adni3_rs_networks_v2_std.xlsx', sheet_name='rs_networks_diff')"
   ],
   "metadata": {
    "collapsed": false,
    "pycharm": {
     "name": "#%%\n"
    }
   }
  },
  {
   "cell_type": "code",
   "execution_count": 58,
   "outputs": [],
   "source": [
    "dice = []\n",
    "jaccard = []\n",
    "volume_difference = []\n",
    "results_v2_adni3_v2 = []\n",
    "\n",
    "for i in range(len(cn_v2_oasis3_mean)):\n",
    "    cn = relevant_path_cn_v2_adni3 + cn_v2_adni3_tmap[i] + '.nii'\n",
    "    mci = relevant_path_mci_v2_adni3_v2 + mci_v2_adni3_v2_tmap[i] + '.nii'\n",
    "\n",
    "    overlap = Overlap()\n",
    "    overlap.inputs.volume1 = cn\n",
    "    overlap.inputs.volume2 = mci\n",
    "    overlap.inputs.out_file = '/run/media/kevrodz/Salvador/ADNI3_KEV_CLAUDIA/rs-networks_mean_std_by_group/rs_networks_v2_mci_adni3_v2/' + 'diff_' + mci_v2_adni3_v2_tmap[i] + '.nii'\n",
    "    res = overlap.run()\n",
    "    results_v2_adni3_v2.append(res.outputs)\n",
    "    dice.append(res.outputs.dice)\n",
    "    jaccard.append(res.outputs.jaccard)\n",
    "    volume_difference.append(res.outputs.volume_difference)"
   ],
   "metadata": {
    "collapsed": false,
    "pycharm": {
     "name": "#%%\n"
    }
   }
  },
  {
   "cell_type": "code",
   "execution_count": 59,
   "outputs": [],
   "source": [
    "adni3_rs_networks_v2 = pd.DataFrame({'rs_network': rs_networks_v2,\n",
    "                                      'Dice': dice,\n",
    "                                      'Jaccard': jaccard,\n",
    "                                      'volume_difference': volume_difference})\n",
    "adni3_rs_networks_v2\n",
    "adni3_rs_networks_v2.to_csv('/run/media/kevrodz/Salvador/ADNI3_KEV_CLAUDIA/rs-networks_mean_std_by_group/rs_networks_v2_mci_adni3_v2/mci_v2_adni3_rs_networks_v2_tmap.csv', index=False)\n",
    "adni3_rs_networks_v2.to_excel('/run/media/kevrodz/Salvador/ADNI3_KEV_CLAUDIA/rs-networks_mean_std_by_group/rs_networks_v2_mci_adni3_v2/mci_v2_adni3_rs_networks_v2_tmap.xlsx', sheet_name='rs_networks_diff')"
   ],
   "metadata": {
    "collapsed": false,
    "pycharm": {
     "name": "#%%\n"
    }
   }
  },
  {
   "cell_type": "code",
   "execution_count": 64,
   "outputs": [],
   "source": [
    "dice = []\n",
    "jaccard = []\n",
    "volume_difference = []\n",
    "results_v2_adni3_v1 = []\n",
    "\n",
    "for i in range(len(cn_v2_oasis3_mean)):\n",
    "    cn = relevant_path_cn_v2_adni3 + cn_v2_adni3_mean[i] + '.nii'\n",
    "    mci = relevant_path_mci_v2_adni3_v1 + mci_v2_adni3_v1_mean[i] + '.nii'\n",
    "\n",
    "    overlap = Overlap()\n",
    "    overlap.inputs.volume1 = cn\n",
    "    overlap.inputs.volume2 = mci\n",
    "    overlap.inputs.out_file = '/run/media/kevrodz/Salvador/ADNI3_KEV_CLAUDIA/rs-networks_mean_std_by_group/rs_networks_v2_mci_adni_v1/' + 'diff_' + mci_v2_adni3_v1_mean[i] + '.nii'\n",
    "    res = overlap.run()\n",
    "    results_v2_adni3_v1.append(res.outputs)\n",
    "    dice.append(res.outputs.dice)\n",
    "    jaccard.append(res.outputs.jaccard)\n",
    "    volume_difference.append(res.outputs.volume_difference)"
   ],
   "metadata": {
    "collapsed": false,
    "pycharm": {
     "name": "#%%\n"
    }
   }
  },
  {
   "cell_type": "code",
   "execution_count": 66,
   "outputs": [],
   "source": [
    "adni3_rs_networks_v1 = pd.DataFrame({'rs_network': rs_networks_v2,\n",
    "                                      'Dice': dice,\n",
    "                                      'Jaccard': jaccard,\n",
    "                                      'volume_difference': volume_difference})\n",
    "adni3_rs_networks_v1\n",
    "adni3_rs_networks_v1.to_csv('/run/media/kevrodz/Salvador/ADNI3_KEV_CLAUDIA/rs-networks_mean_std_by_group/rs_networks_v2_mci_adni_v1/mci_v1_adni3_rs_networks_v2_mean.csv', index=False)\n",
    "adni3_rs_networks_v1.to_excel('/run/media/kevrodz/Salvador/ADNI3_KEV_CLAUDIA/rs-networks_mean_std_by_group/rs_networks_v2_mci_adni_v1/mci_v1_adni3_rs_networks_v2_mean.xlsx', sheet_name='rs_networks_diff')"
   ],
   "metadata": {
    "collapsed": false,
    "pycharm": {
     "name": "#%%\n"
    }
   }
  },
  {
   "cell_type": "code",
   "execution_count": 71,
   "outputs": [],
   "source": [
    "dice = []\n",
    "jaccard = []\n",
    "volume_difference = []\n",
    "results_v2_adni3_v1 = []\n",
    "\n",
    "for i in range(len(cn_v2_oasis3_mean)):\n",
    "    cn = relevant_path_cn_v2_adni3 + cn_v2_adni3_std[i] + '.nii'\n",
    "    mci = relevant_path_mci_v2_adni3_v1 + mci_v2_adni3_v1_std[i] + '.nii'\n",
    "\n",
    "    overlap = Overlap()\n",
    "    overlap.inputs.volume1 = cn\n",
    "    overlap.inputs.volume2 = mci\n",
    "    overlap.inputs.out_file = '/run/media/kevrodz/Salvador/ADNI3_KEV_CLAUDIA/rs-networks_mean_std_by_group/rs_networks_v2_mci_adni_v1/' + 'diff_' + mci_v2_adni3_v1_std[i] + '.nii'\n",
    "    res = overlap.run()\n",
    "    results_v2_adni3_v1.append(res.outputs)\n",
    "    dice.append(res.outputs.dice)\n",
    "    jaccard.append(res.outputs.jaccard)\n",
    "    volume_difference.append(res.outputs.volume_difference)"
   ],
   "metadata": {
    "collapsed": false,
    "pycharm": {
     "name": "#%%\n"
    }
   }
  },
  {
   "cell_type": "code",
   "execution_count": 72,
   "outputs": [],
   "source": [
    "adni3_rs_networks_v1 = pd.DataFrame({'rs_network': rs_networks_v2,\n",
    "                                      'Dice': dice,\n",
    "                                      'Jaccard': jaccard,\n",
    "                                      'volume_difference': volume_difference})\n",
    "adni3_rs_networks_v1\n",
    "adni3_rs_networks_v1.to_csv('/run/media/kevrodz/Salvador/ADNI3_KEV_CLAUDIA/rs-networks_mean_std_by_group/rs_networks_v2_mci_adni_v1/mci_v1_adni3_rs_networks_v2_std.csv', index=False)\n",
    "adni3_rs_networks_v1.to_excel('/run/media/kevrodz/Salvador/ADNI3_KEV_CLAUDIA/rs-networks_mean_std_by_group/rs_networks_v2_mci_adni_v1/mci_v1_adni3_rs_networks_v2_std.xlsx', sheet_name='rs_networks_diff')"
   ],
   "metadata": {
    "collapsed": false,
    "pycharm": {
     "name": "#%%\n"
    }
   }
  },
  {
   "cell_type": "code",
   "execution_count": 73,
   "outputs": [],
   "source": [
    "dice = []\n",
    "jaccard = []\n",
    "volume_difference = []\n",
    "results_v2_adni3_v1 = []\n",
    "\n",
    "for i in range(len(cn_v2_oasis3_mean)):\n",
    "    cn = relevant_path_cn_v2_adni3 + cn_v2_adni3_tmap[i] + '.nii'\n",
    "    mci = relevant_path_mci_v2_adni3_v1 + mci_v2_adni3_v1_tmap[i] + '.nii'\n",
    "\n",
    "    overlap = Overlap()\n",
    "    overlap.inputs.volume1 = cn\n",
    "    overlap.inputs.volume2 = mci\n",
    "    overlap.inputs.out_file = '/run/media/kevrodz/Salvador/ADNI3_KEV_CLAUDIA/rs-networks_mean_std_by_group/rs_networks_v2_mci_adni_v1/' + 'diff_' + mci_v2_adni3_v1_tmap[i] + '.nii'\n",
    "    res = overlap.run()\n",
    "    results_v2_adni3_v1.append(res.outputs)\n",
    "    dice.append(res.outputs.dice)\n",
    "    jaccard.append(res.outputs.jaccard)\n",
    "    volume_difference.append(res.outputs.volume_difference)"
   ],
   "metadata": {
    "collapsed": false,
    "pycharm": {
     "name": "#%%\n"
    }
   }
  },
  {
   "cell_type": "code",
   "execution_count": 74,
   "outputs": [],
   "source": [
    "adni3_rs_networks_v1 = pd.DataFrame({'rs_network': rs_networks_v2,\n",
    "                                      'Dice': dice,\n",
    "                                      'Jaccard': jaccard,\n",
    "                                      'volume_difference': volume_difference})\n",
    "adni3_rs_networks_v1\n",
    "adni3_rs_networks_v1.to_csv('/run/media/kevrodz/Salvador/ADNI3_KEV_CLAUDIA/rs-networks_mean_std_by_group/rs_networks_v2_mci_adni_v1/mci_v1_adni3_rs_networks_v2_tmap.csv', index=False)\n",
    "adni3_rs_networks_v1.to_excel('/run/media/kevrodz/Salvador/ADNI3_KEV_CLAUDIA/rs-networks_mean_std_by_group/rs_networks_v2_mci_adni_v1/mci_v1_adni3_rs_networks_v2_tmap.xlsx', sheet_name='rs_networks_diff')"
   ],
   "metadata": {
    "collapsed": false,
    "pycharm": {
     "name": "#%%\n"
    }
   }
  },
  {
   "cell_type": "markdown",
   "source": [
    "# RS NETWORKS V1"
   ],
   "metadata": {
    "collapsed": false,
    "pycharm": {
     "name": "#%% md\n"
    }
   }
  },
  {
   "cell_type": "code",
   "execution_count": 10,
   "outputs": [],
   "source": [
    "ad_v1_oasis3_mean = [f\"res_bin_thr5_pval_rs_networks_AD_OASIS3_mean_component_ica_s_all_{i:04}\" for i in range(15)]\n",
    "cn_v1_oasis3_mean = [f\"res_bin_thr5_pval_rs_networks_CN_OASIS3_mean_component_ica_s_all_{i:04}\" for i in range(15)]\n",
    "ad_v1_oasis3_tmap = [f\"res_bin_thr5_pval_rs_networks_AD_OASIS3_tmap_component_ica_s1_{i:04}\" for i in range(15)]\n",
    "cn_v1_oasis3_tmap = [f\"res_bin_thr5_pval_rs_networks_CN_OASIS3_tmap_component_ica_s1_{i:04}\" for i in range(15)]\n",
    "ad_v1_oasis3_std = [f\"res_bin_thr5_pval_rs_networks_AD_OASIS3_std_component_ica_s1_{i:04}\" for i in range(15)]\n",
    "cn_v1_oasis3_std = [f\"res_bin_thr5_pval_rs_networks_CN_OASIS3_std_component_ica_s1_{i:04}\" for i in range(15)]\n",
    "\n",
    "relevant_path_cn_v1_oasis3 = '/run/media/kevrodz/Salvador/ADNI3_KEV_CLAUDIA/rs-networks_CN_OASIS3/'\n",
    "relevant_path_ad_v1_oasis3 = '/run/media/kevrodz/Salvador/ADNI3_KEV_CLAUDIA/rs-networks_AD_OASIS3/'\n",
    "\n",
    "ad_v1_adni3_v1_mean = [f\"res_bin_thr5_pval_rs_networks_ADNI3_V1_mean_component_ica_s_all_{i:04}\" for i in range(15)]\n",
    "ad_v1_adni3_v2_mean = [f\"res_bin_thr5_pval_rs_networks_AD_ADNI3_V2_mean_component_ica_s_all_{i:04}\" for i in range(15)]\n",
    "mci_v1_adni3_v1_mean = [f\"res_bin_thr5_pval_rs_networks_MCI_ADNI3_mean_component_ica_s_all_{i:04}\" for i in range(15)]\n",
    "mci_v1_adni3_v2_mean = [f\"res_bin_thr5_pval_rs_networks_ADNI3_MCI_v2_mean_component_ica_s_all_{i:04}\" for i in range(15)]\n",
    "cn_v1_adni3_mean = [f\"res_bin_thr5_pval_rs_networks_CN_ADNI3_mean_component_ica_s_all_{i:04}\" for i in range(15)]\n",
    "cn_ad_v1_adni3_v2_mean = [f\"res_bin_thr5_pval_rs_networks_CN_AD_ADNI3_V2_mean_component_ica_s_all_{i:04}\" for i in range(15)]\n",
    "cn_mci_v1_adni3_v2_mean = [f\"res_bin_thr5_pval_rs_networks_CN_MCI_ADNI3_V2_mean_component_ica_s_all_{i:04}\" for i in range(15)]\n",
    "\n",
    "\n",
    "ad_v1_adni3_v1_tmap = [f\"res_bin_thr5_pval_rs_networks_ADNI3_V1_tmap_component_ica_s1_{i:04}\" for i in range(15)]\n",
    "ad_v1_adni3_v2_tmap = [f\"res_bin_thr5_pval_rs_networks_AD_ADNI3_V2_tmap_component_ica_s1_{i:04}\" for i in range(15)]\n",
    "mci_v1_adni3_v1_tmap = [f\"res_bin_thr5_pval_rs_networks_MCI_ADNI3_tmap_component_ica_s1_{i:04}\" for i in range(15)]\n",
    "mci_v1_adni3_v2_tmap = [f\"res_bin_thr5_pval_rs_networks_ADNI3_MCI_v2_tmap_component_ica_s1_{i:04}\" for i in range(15)]\n",
    "cn_v1_adni3_tmap = [f\"res_bin_thr5_pval_rs_networks_CN_ADNI3_tmap_component_ica_s1_{i:04}\" for i in range(15)]\n",
    "cn_ad_v1_adni3_v2_tmap = [f\"res_bin_thr5_pval_rs_networks_CN_AD_ADNI3_V2_tmap_component_ica_s1_{i:04}\" for i in range(15)]\n",
    "cn_mci_v1_adni3_v2_tmap = [f\"res_bin_thr5_pval_rs_networks_CN_MCI_ADNI3_V2_tmap_component_ica_s1_{i:04}\" for i in range(15)]\n",
    "\n",
    "ad_v1_adni3_v1_std = [f\"res_bin_thr5_pval_rs_networks_ADNI3_V1_std_component_ica_s1_{i:04}\" for i in range(15)]\n",
    "ad_v_adni3_v2_std = [f\"res_bin_thr5_pval_rs_networks_AD_ADNI3_V2_std_component_ica_s1_{i:04}\" for i in range(15)]\n",
    "mci_v1_adni3_v1_std = [f\"res_bin_thr5_pval_rs_networks_MCI_ADNI3_std_component_ica_s1_{i:04}\" for i in range(15)]\n",
    "mci_v1_adni3_v2_std = [f\"res_bin_thr5_pval_rs_networks_ADNI3_MCI_v2_std_component_ica_s1_{i:04}\" for i in range(15)]\n",
    "cn_v1_adni3_std = [f\"res_bin_thr5_pval_rs_networks_CN_ADNI3_std_component_ica_s1_{i:04}\" for i in range(15)]\n",
    "cn_ad_v1_adni3_v2_std = [f\"res_bin_thr5_pval_rs_networks_CN_AD_ADNI3_V2_std_component_ica_s1_{i:04}\" for i in range(15)]\n",
    "cn_mci_v1_adni3_v2_std = [f\"res_bin_thr5_pval_rs_networks_CN_MCI_ADNI3_V2_std_component_ica_s1_{i:04}\" for i in range(15)]\n",
    "\n",
    "relevant_path_ad_v1_adni3_v1 = '/run/media/kevrodz/Salvador/ADNI3_KEV_CLAUDIA/rs-networks_AD_ADNI3_V1/'\n",
    "relevant_path_ad_v1_adni3_v2 = '/run/media/kevrodz/Salvador/ADNI3_KEV_CLAUDIA/rs-networks_AD_ADNI3_V2/'\n",
    "relevant_path_mci_v1_adni3_v1 = '/run/media/kevrodz/Salvador/ADNI3_KEV_CLAUDIA/rs-networks_MCI_ADNI3_V1/'\n",
    "relevant_path_mci_v1_adni3_v2 = '/run/media/kevrodz/Salvador/ADNI3_KEV_CLAUDIA/rs-networks_MCI_ADNI3_V2/'\n",
    "relevant_path_cn_v1_adni3 = '/run/media/kevrodz/Salvador/ADNI3_KEV_CLAUDIA/rs-networks_CN_ADNI3/'\n",
    "relevant_path_cn_ad_v1_adni3_v2 = '/run/media/kevrodz/Salvador/ADNI3_KEV_CLAUDIA/rs-networks_CN_AD_ADNI3_V2/'\n",
    "relevant_path_cn_mci_v1_adni3_v2 = '/run/media/kevrodz/Salvador/ADNI3_KEV_CLAUDIA/rs-networks_CN_MCI_ADNI3_V2/'\n",
    "\n",
    "rs_networks_v1 = ['Parietal Memory', 'Default Mode', 'Auditory', 'Cingulo Opercular', 'Dorsal Attention', 'Fronto Parietal',\n",
    "                  'Medial Temporal Lobe', 'Parieto Medial', 'Reward', 'Salience', 'Somatomotor Dorsal', 'Somatomotor Lateral',\n",
    "                  'Unassigned', 'Ventral Attention', 'Visual']"
   ],
   "metadata": {
    "collapsed": false,
    "pycharm": {
     "name": "#%%\n"
    }
   }
  },
  {
   "cell_type": "code",
   "execution_count": 3,
   "outputs": [],
   "source": [
    "def mri_overlap(vol1: str, vol2: str, output: str):\n",
    "    \"\"\"\n",
    "    Calculates the overlap between 2 images (Dice and Jaccard Index)\n",
    "    :param vol1: path of volume 1\n",
    "    :param vol2: path of volume 2\n",
    "    :param output: output path\n",
    "    :return: overlap object with all the results\n",
    "    \"\"\"\n",
    "    overlap = Overlap()\n",
    "    overlap.inputs.volume1 = vol1\n",
    "    overlap.inputs.volume2 = vol2\n",
    "    overlap.inputs.out_file = output\n",
    "    res = overlap.run()\n",
    "    return res\n"
   ],
   "metadata": {
    "collapsed": false,
    "pycharm": {
     "name": "#%%\n"
    }
   }
  },
  {
   "cell_type": "code",
   "execution_count": 4,
   "outputs": [],
   "source": [
    "dice_mean = []\n",
    "jaccard_mean = []\n",
    "volume_difference_mean = []\n",
    "dice_std = []\n",
    "jaccard_std = []\n",
    "volume_difference_std = []\n",
    "dice_tmap = []\n",
    "jaccard_tmap= []\n",
    "volume_difference_tmap = []\n",
    "results_v1_oasis3_mean = []\n",
    "results_v1_oasis3_std = []\n",
    "results_v1_oasis3_tmap = []\n",
    "\n",
    "for i in range(len(cn_v1_oasis3_mean)):\n",
    "    cn_mean = relevant_path_cn_v1_oasis3 + cn_v1_oasis3_mean[i] + '.nii'\n",
    "    ad_mean = relevant_path_ad_v1_oasis3 + ad_v1_oasis3_mean[i] + '.nii'\n",
    "    cn_std = relevant_path_cn_v1_oasis3 + cn_v1_oasis3_std[i] + '.nii'\n",
    "    ad_std = relevant_path_ad_v1_oasis3 + ad_v1_oasis3_std[i] + '.nii'\n",
    "    cn_tmap = relevant_path_cn_v1_oasis3 + cn_v1_oasis3_tmap[i] + '.nii'\n",
    "    ad_tmap = relevant_path_ad_v1_oasis3 + ad_v1_oasis3_tmap[i] + '.nii'\n",
    "\n",
    "    out_mean = '/run/media/kevrodz/Salvador/ADNI3_KEV_CLAUDIA/rs-networks_mean_std_by_group/rs_networsk_v1_oasis3/' + 'diff_' + ad_v1_oasis3_mean[i] + '.nii'\n",
    "    out_std = '/run/media/kevrodz/Salvador/ADNI3_KEV_CLAUDIA/rs-networks_mean_std_by_group/rs_networsk_v1_oasis3/' + 'diff_' + ad_v1_oasis3_std[i] + '.nii'\n",
    "    out_tmap = '/run/media/kevrodz/Salvador/ADNI3_KEV_CLAUDIA/rs-networks_mean_std_by_group/rs_networsk_v1_oasis3/' + 'diff_' + ad_v1_oasis3_tmap[i] + '.nii'\n",
    "\n",
    "    res_mean = mri_overlap(cn_mean, ad_mean, out_mean)\n",
    "    res_std = mri_overlap(cn_std, ad_std, out_std)\n",
    "    res_tmap = mri_overlap(cn_tmap, ad_tmap, out_tmap)\n",
    "\n",
    "    results_v1_oasis3_mean.append(res_mean.outputs)\n",
    "    dice_mean.append(res_mean.outputs.dice)\n",
    "    jaccard_mean.append(res_mean.outputs.jaccard)\n",
    "    volume_difference_mean.append(res_mean.outputs.volume_difference)\n",
    "\n",
    "    results_v1_oasis3_std.append(res_std.outputs)\n",
    "    dice_std.append(res_std.outputs.dice)\n",
    "    jaccard_std.append(res_std.outputs.jaccard)\n",
    "    volume_difference_std.append(res_std.outputs.volume_difference)\n",
    "\n",
    "    results_v1_oasis3_tmap.append(res_tmap.outputs)\n",
    "    dice_tmap.append(res_tmap.outputs.dice)\n",
    "    jaccard_tmap.append(res_tmap.outputs.jaccard)\n",
    "    volume_difference_tmap.append(res_tmap.outputs.volume_difference)"
   ],
   "metadata": {
    "collapsed": false,
    "pycharm": {
     "name": "#%%\n"
    }
   }
  },
  {
   "cell_type": "code",
   "execution_count": 5,
   "outputs": [],
   "source": [
    "oasis3_rs_networks_v1_mean = pd.DataFrame({'rs_network': rs_networks_v1,\n",
    "                                           'Dice': dice_mean,\n",
    "                                           'Jaccard': jaccard_mean,\n",
    "                                           'volume_difference': volume_difference_mean})\n",
    "oasis3_rs_networks_v1_std = pd.DataFrame({'rs_network': rs_networks_v1,\n",
    "                                           'Dice': dice_std,\n",
    "                                           'Jaccard': jaccard_std,\n",
    "                                           'volume_difference': volume_difference_std})\n",
    "oasis3_rs_networks_v1_tmap = pd.DataFrame({'rs_network': rs_networks_v1,\n",
    "                                           'Dice': dice_tmap,\n",
    "                                           'Jaccard': jaccard_tmap,\n",
    "                                           'volume_difference': volume_difference_tmap})\n",
    "oasis3_rs_networks_v1_mean.to_csv('/run/media/kevrodz/Salvador/ADNI3_KEV_CLAUDIA/rs-networks_mean_std_by_group/rs_networsk_v1_oasis3/ad_oasis3_rs_networks_v1_mean.csv', index=False)\n",
    "oasis3_rs_networks_v1_mean.to_excel('/run/media/kevrodz/Salvador/ADNI3_KEV_CLAUDIA/rs-networks_mean_std_by_group/rs_networsk_v1_oasis3/ad_oasis3_rs_networks_v1_mean.xlsx', sheet_name='rs_networks_diff')\n",
    "oasis3_rs_networks_v1_std.to_csv('/run/media/kevrodz/Salvador/ADNI3_KEV_CLAUDIA/rs-networks_mean_std_by_group/rs_networsk_v1_oasis3/ad_oasis3_rs_networks_v1_std.csv', index=False)\n",
    "oasis3_rs_networks_v1_std.to_excel('/run/media/kevrodz/Salvador/ADNI3_KEV_CLAUDIA/rs-networks_mean_std_by_group/rs_networsk_v1_oasis3/ad_oasis3_rs_networks_v1_std.xlsx', sheet_name='rs_networks_diff')\n",
    "oasis3_rs_networks_v1_tmap.to_csv('/run/media/kevrodz/Salvador/ADNI3_KEV_CLAUDIA/rs-networks_mean_std_by_group/rs_networsk_v1_oasis3/ad_oasis3_rs_networks_v1_tmap.csv', index=False)\n",
    "oasis3_rs_networks_v1_tmap.to_excel('/run/media/kevrodz/Salvador/ADNI3_KEV_CLAUDIA/rs-networks_mean_std_by_group/rs_networsk_v1_oasis3/ad_oasis3_rs_networks_v1_tmap.xlsx', sheet_name='rs_networks_diff')"
   ],
   "metadata": {
    "collapsed": false,
    "pycharm": {
     "name": "#%%\n"
    }
   }
  },
  {
   "cell_type": "code",
   "execution_count": 6,
   "outputs": [
    {
     "ename": "FileNotFoundError",
     "evalue": "[Errno 2] No such file or directory: '/run/media/kevrodz/Salvador/ADNI3_KEV_CLAUDIA/rs-networks_mean_std_by_group/rs_networks_v1_ad_adni_v1/diff_res_bin_thr5_pval_rs_networks_ADNI3_V1_mean_component_ica_s_all_0000.nii'",
     "output_type": "error",
     "traceback": [
      "\u001B[0;31m---------------------------------------------------------------------------\u001B[0m",
      "\u001B[0;31mFileNotFoundError\u001B[0m                         Traceback (most recent call last)",
      "Input \u001B[0;32mIn [6]\u001B[0m, in \u001B[0;36m<cell line: 14>\u001B[0;34m()\u001B[0m\n\u001B[1;32m     23\u001B[0m out_std \u001B[38;5;241m=\u001B[39m \u001B[38;5;124m'\u001B[39m\u001B[38;5;124m/run/media/kevrodz/Salvador/ADNI3_KEV_CLAUDIA/rs-networks_mean_std_by_group/rs_networks_v1_ad_adni_v1/\u001B[39m\u001B[38;5;124m'\u001B[39m \u001B[38;5;241m+\u001B[39m \u001B[38;5;124m'\u001B[39m\u001B[38;5;124mdiff_\u001B[39m\u001B[38;5;124m'\u001B[39m \u001B[38;5;241m+\u001B[39m ad_v1_adni3_v1_std[i] \u001B[38;5;241m+\u001B[39m \u001B[38;5;124m'\u001B[39m\u001B[38;5;124m.nii\u001B[39m\u001B[38;5;124m'\u001B[39m\n\u001B[1;32m     24\u001B[0m out_tmap \u001B[38;5;241m=\u001B[39m \u001B[38;5;124m'\u001B[39m\u001B[38;5;124m/run/media/kevrodz/Salvador/ADNI3_KEV_CLAUDIA/rs-networks_mean_std_by_group/rs_networks_v1_ad_adni_v1/\u001B[39m\u001B[38;5;124m'\u001B[39m \u001B[38;5;241m+\u001B[39m \u001B[38;5;124m'\u001B[39m\u001B[38;5;124mdiff_\u001B[39m\u001B[38;5;124m'\u001B[39m \u001B[38;5;241m+\u001B[39m ad_v1_adni3_v1_tmap[i] \u001B[38;5;241m+\u001B[39m \u001B[38;5;124m'\u001B[39m\u001B[38;5;124m.nii\u001B[39m\u001B[38;5;124m'\u001B[39m\n\u001B[0;32m---> 26\u001B[0m res_mean \u001B[38;5;241m=\u001B[39m \u001B[43mmri_overlap\u001B[49m\u001B[43m(\u001B[49m\u001B[43mcn_mean\u001B[49m\u001B[43m,\u001B[49m\u001B[43m \u001B[49m\u001B[43mad_mean\u001B[49m\u001B[43m,\u001B[49m\u001B[43m \u001B[49m\u001B[43mout_mean\u001B[49m\u001B[43m)\u001B[49m\n\u001B[1;32m     27\u001B[0m res_std \u001B[38;5;241m=\u001B[39m mri_overlap(cn_std, ad_std, out_std)\n\u001B[1;32m     28\u001B[0m res_tmap \u001B[38;5;241m=\u001B[39m mri_overlap(cn_tmap, ad_tmap, out_tmap)\n",
      "Input \u001B[0;32mIn [3]\u001B[0m, in \u001B[0;36mmri_overlap\u001B[0;34m(vol1, vol2, output)\u001B[0m\n\u001B[1;32m     11\u001B[0m overlap\u001B[38;5;241m.\u001B[39minputs\u001B[38;5;241m.\u001B[39mvolume2 \u001B[38;5;241m=\u001B[39m vol2\n\u001B[1;32m     12\u001B[0m overlap\u001B[38;5;241m.\u001B[39minputs\u001B[38;5;241m.\u001B[39mout_file \u001B[38;5;241m=\u001B[39m output\n\u001B[0;32m---> 13\u001B[0m res \u001B[38;5;241m=\u001B[39m \u001B[43moverlap\u001B[49m\u001B[38;5;241;43m.\u001B[39;49m\u001B[43mrun\u001B[49m\u001B[43m(\u001B[49m\u001B[43m)\u001B[49m\n\u001B[1;32m     14\u001B[0m \u001B[38;5;28;01mreturn\u001B[39;00m res\n",
      "File \u001B[0;32m~/Documents/Master/neuro/lib/python3.10/site-packages/nipype/interfaces/base/core.py:398\u001B[0m, in \u001B[0;36mBaseInterface.run\u001B[0;34m(self, cwd, ignore_exception, **inputs)\u001B[0m\n\u001B[1;32m    396\u001B[0m \u001B[38;5;66;03m# Run interface\u001B[39;00m\n\u001B[1;32m    397\u001B[0m runtime \u001B[38;5;241m=\u001B[39m \u001B[38;5;28mself\u001B[39m\u001B[38;5;241m.\u001B[39m_pre_run_hook(runtime)\n\u001B[0;32m--> 398\u001B[0m runtime \u001B[38;5;241m=\u001B[39m \u001B[38;5;28;43mself\u001B[39;49m\u001B[38;5;241;43m.\u001B[39;49m\u001B[43m_run_interface\u001B[49m\u001B[43m(\u001B[49m\u001B[43mruntime\u001B[49m\u001B[43m)\u001B[49m\n\u001B[1;32m    399\u001B[0m runtime \u001B[38;5;241m=\u001B[39m \u001B[38;5;28mself\u001B[39m\u001B[38;5;241m.\u001B[39m_post_run_hook(runtime)\n\u001B[1;32m    400\u001B[0m \u001B[38;5;66;03m# Collect outputs\u001B[39;00m\n",
      "File \u001B[0;32m~/Documents/Master/neuro/lib/python3.10/site-packages/nipype/algorithms/metrics.py:346\u001B[0m, in \u001B[0;36mOverlap._run_interface\u001B[0;34m(self, runtime)\u001B[0m\n\u001B[1;32m    343\u001B[0m both_data \u001B[38;5;241m=\u001B[39m np\u001B[38;5;241m.\u001B[39mzeros(data1\u001B[38;5;241m.\u001B[39mshape)\n\u001B[1;32m    344\u001B[0m both_data[(data1 \u001B[38;5;241m-\u001B[39m data2) \u001B[38;5;241m!=\u001B[39m \u001B[38;5;241m0\u001B[39m] \u001B[38;5;241m=\u001B[39m \u001B[38;5;241m1\u001B[39m\n\u001B[0;32m--> 346\u001B[0m \u001B[43mnb\u001B[49m\u001B[38;5;241;43m.\u001B[39;49m\u001B[43msave\u001B[49m\u001B[43m(\u001B[49m\n\u001B[1;32m    347\u001B[0m \u001B[43m    \u001B[49m\u001B[43mnb\u001B[49m\u001B[38;5;241;43m.\u001B[39;49m\u001B[43mNifti1Image\u001B[49m\u001B[43m(\u001B[49m\u001B[43mboth_data\u001B[49m\u001B[43m,\u001B[49m\u001B[43m \u001B[49m\u001B[43mnii1\u001B[49m\u001B[38;5;241;43m.\u001B[39;49m\u001B[43maffine\u001B[49m\u001B[43m,\u001B[49m\u001B[43m \u001B[49m\u001B[43mnii1\u001B[49m\u001B[38;5;241;43m.\u001B[39;49m\u001B[43mheader\u001B[49m\u001B[43m)\u001B[49m\u001B[43m,\u001B[49m\u001B[43m \u001B[49m\u001B[38;5;28;43mself\u001B[39;49m\u001B[38;5;241;43m.\u001B[39;49m\u001B[43minputs\u001B[49m\u001B[38;5;241;43m.\u001B[39;49m\u001B[43mout_file\u001B[49m\n\u001B[1;32m    348\u001B[0m \u001B[43m\u001B[49m\u001B[43m)\u001B[49m\n\u001B[1;32m    350\u001B[0m \u001B[38;5;28mself\u001B[39m\u001B[38;5;241m.\u001B[39m_labels \u001B[38;5;241m=\u001B[39m labels\n\u001B[1;32m    351\u001B[0m \u001B[38;5;28mself\u001B[39m\u001B[38;5;241m.\u001B[39m_ove_rois \u001B[38;5;241m=\u001B[39m results\n",
      "File \u001B[0;32m~/Documents/Master/neuro/lib/python3.10/site-packages/nibabel/loadsave.py:99\u001B[0m, in \u001B[0;36msave\u001B[0;34m(img, filename)\u001B[0m\n\u001B[1;32m     97\u001B[0m \u001B[38;5;66;03m# Save the type as expected\u001B[39;00m\n\u001B[1;32m     98\u001B[0m \u001B[38;5;28;01mtry\u001B[39;00m:\n\u001B[0;32m---> 99\u001B[0m     \u001B[43mimg\u001B[49m\u001B[38;5;241;43m.\u001B[39;49m\u001B[43mto_filename\u001B[49m\u001B[43m(\u001B[49m\u001B[43mfilename\u001B[49m\u001B[43m)\u001B[49m\n\u001B[1;32m    100\u001B[0m \u001B[38;5;28;01mexcept\u001B[39;00m ImageFileError:\n\u001B[1;32m    101\u001B[0m     \u001B[38;5;28;01mpass\u001B[39;00m\n",
      "File \u001B[0;32m~/Documents/Master/neuro/lib/python3.10/site-packages/nibabel/filebasedimages.py:333\u001B[0m, in \u001B[0;36mFileBasedImage.to_filename\u001B[0;34m(self, filename)\u001B[0m\n\u001B[1;32m    319\u001B[0m \u001B[38;5;124;03m\"\"\" Write image to files implied by filename string\u001B[39;00m\n\u001B[1;32m    320\u001B[0m \n\u001B[1;32m    321\u001B[0m \u001B[38;5;124;03mParameters\u001B[39;00m\n\u001B[0;32m   (...)\u001B[0m\n\u001B[1;32m    330\u001B[0m \u001B[38;5;124;03mNone\u001B[39;00m\n\u001B[1;32m    331\u001B[0m \u001B[38;5;124;03m\"\"\"\u001B[39;00m\n\u001B[1;32m    332\u001B[0m \u001B[38;5;28mself\u001B[39m\u001B[38;5;241m.\u001B[39mfile_map \u001B[38;5;241m=\u001B[39m \u001B[38;5;28mself\u001B[39m\u001B[38;5;241m.\u001B[39mfilespec_to_file_map(filename)\n\u001B[0;32m--> 333\u001B[0m \u001B[38;5;28;43mself\u001B[39;49m\u001B[38;5;241;43m.\u001B[39;49m\u001B[43mto_file_map\u001B[49m\u001B[43m(\u001B[49m\u001B[43m)\u001B[49m\n",
      "File \u001B[0;32m~/Documents/Master/neuro/lib/python3.10/site-packages/nibabel/analyze.py:1030\u001B[0m, in \u001B[0;36mAnalyzeImage.to_file_map\u001B[0;34m(self, file_map)\u001B[0m\n\u001B[1;32m   1026\u001B[0m \u001B[38;5;66;03m# Check if hdr and img refer to same file; this can happen with odd\u001B[39;00m\n\u001B[1;32m   1027\u001B[0m \u001B[38;5;66;03m# analyze images but most often this is because it's a single nifti\u001B[39;00m\n\u001B[1;32m   1028\u001B[0m \u001B[38;5;66;03m# file\u001B[39;00m\n\u001B[1;32m   1029\u001B[0m hdr_img_same \u001B[38;5;241m=\u001B[39m hdr_fh\u001B[38;5;241m.\u001B[39msame_file_as(img_fh)\n\u001B[0;32m-> 1030\u001B[0m hdrf \u001B[38;5;241m=\u001B[39m \u001B[43mhdr_fh\u001B[49m\u001B[38;5;241;43m.\u001B[39;49m\u001B[43mget_prepare_fileobj\u001B[49m\u001B[43m(\u001B[49m\u001B[43mmode\u001B[49m\u001B[38;5;241;43m=\u001B[39;49m\u001B[38;5;124;43m'\u001B[39;49m\u001B[38;5;124;43mwb\u001B[39;49m\u001B[38;5;124;43m'\u001B[39;49m\u001B[43m)\u001B[49m\n\u001B[1;32m   1031\u001B[0m \u001B[38;5;28;01mif\u001B[39;00m hdr_img_same:\n\u001B[1;32m   1032\u001B[0m     imgf \u001B[38;5;241m=\u001B[39m hdrf\n",
      "File \u001B[0;32m~/Documents/Master/neuro/lib/python3.10/site-packages/nibabel/fileholders.py:70\u001B[0m, in \u001B[0;36mFileHolder.get_prepare_fileobj\u001B[0;34m(self, *args, **kwargs)\u001B[0m\n\u001B[1;32m     68\u001B[0m     obj\u001B[38;5;241m.\u001B[39mseek(\u001B[38;5;28mself\u001B[39m\u001B[38;5;241m.\u001B[39mpos)\n\u001B[1;32m     69\u001B[0m \u001B[38;5;28;01melif\u001B[39;00m \u001B[38;5;28mself\u001B[39m\u001B[38;5;241m.\u001B[39mfilename \u001B[38;5;129;01mis\u001B[39;00m \u001B[38;5;129;01mnot\u001B[39;00m \u001B[38;5;28;01mNone\u001B[39;00m:\n\u001B[0;32m---> 70\u001B[0m     obj \u001B[38;5;241m=\u001B[39m \u001B[43mImageOpener\u001B[49m\u001B[43m(\u001B[49m\u001B[38;5;28;43mself\u001B[39;49m\u001B[38;5;241;43m.\u001B[39;49m\u001B[43mfilename\u001B[49m\u001B[43m,\u001B[49m\u001B[43m \u001B[49m\u001B[38;5;241;43m*\u001B[39;49m\u001B[43margs\u001B[49m\u001B[43m,\u001B[49m\u001B[43m \u001B[49m\u001B[38;5;241;43m*\u001B[39;49m\u001B[38;5;241;43m*\u001B[39;49m\u001B[43mkwargs\u001B[49m\u001B[43m)\u001B[49m\n\u001B[1;32m     71\u001B[0m     \u001B[38;5;28;01mif\u001B[39;00m \u001B[38;5;28mself\u001B[39m\u001B[38;5;241m.\u001B[39mpos \u001B[38;5;241m!=\u001B[39m \u001B[38;5;241m0\u001B[39m:\n\u001B[1;32m     72\u001B[0m         obj\u001B[38;5;241m.\u001B[39mseek(\u001B[38;5;28mself\u001B[39m\u001B[38;5;241m.\u001B[39mpos)\n",
      "File \u001B[0;32m~/Documents/Master/neuro/lib/python3.10/site-packages/nibabel/openers.py:113\u001B[0m, in \u001B[0;36mOpener.__init__\u001B[0;34m(self, fileish, *args, **kwargs)\u001B[0m\n\u001B[1;32m    110\u001B[0m \u001B[38;5;66;03m# Clear keep_open hint if it is not relevant for the file type\u001B[39;00m\n\u001B[1;32m    111\u001B[0m \u001B[38;5;28;01melse\u001B[39;00m:\n\u001B[1;32m    112\u001B[0m     kwargs\u001B[38;5;241m.\u001B[39mpop(\u001B[38;5;124m'\u001B[39m\u001B[38;5;124mkeep_open\u001B[39m\u001B[38;5;124m'\u001B[39m, \u001B[38;5;28;01mNone\u001B[39;00m)\n\u001B[0;32m--> 113\u001B[0m \u001B[38;5;28mself\u001B[39m\u001B[38;5;241m.\u001B[39mfobj \u001B[38;5;241m=\u001B[39m \u001B[43mopener\u001B[49m\u001B[43m(\u001B[49m\u001B[43mfileish\u001B[49m\u001B[43m,\u001B[49m\u001B[43m \u001B[49m\u001B[38;5;241;43m*\u001B[39;49m\u001B[43margs\u001B[49m\u001B[43m,\u001B[49m\u001B[43m \u001B[49m\u001B[38;5;241;43m*\u001B[39;49m\u001B[38;5;241;43m*\u001B[39;49m\u001B[43mkwargs\u001B[49m\u001B[43m)\u001B[49m\n\u001B[1;32m    114\u001B[0m \u001B[38;5;28mself\u001B[39m\u001B[38;5;241m.\u001B[39m_name \u001B[38;5;241m=\u001B[39m fileish\n\u001B[1;32m    115\u001B[0m \u001B[38;5;28mself\u001B[39m\u001B[38;5;241m.\u001B[39mme_opened \u001B[38;5;241m=\u001B[39m \u001B[38;5;28;01mTrue\u001B[39;00m\n",
      "\u001B[0;31mFileNotFoundError\u001B[0m: [Errno 2] No such file or directory: '/run/media/kevrodz/Salvador/ADNI3_KEV_CLAUDIA/rs-networks_mean_std_by_group/rs_networks_v1_ad_adni_v1/diff_res_bin_thr5_pval_rs_networks_ADNI3_V1_mean_component_ica_s_all_0000.nii'"
     ]
    }
   ],
   "source": [
    "dice_mean = []\n",
    "jaccard_mean = []\n",
    "volume_difference_mean = []\n",
    "dice_std = []\n",
    "jaccard_std = []\n",
    "volume_difference_std = []\n",
    "dice_tmap = []\n",
    "jaccard_tmap= []\n",
    "volume_difference_tmap = []\n",
    "results_v1_adni3_mean = []\n",
    "results_v1_adni3_std = []\n",
    "results_v1_adni3_tmap = []\n",
    "\n",
    "for i in range(len(cn_v1_oasis3_mean)):\n",
    "    cn_mean = relevant_path_cn_v1_adni3 + cn_v1_adni3_mean[i] + '.nii'\n",
    "    ad_mean = relevant_path_ad_v1_adni3_v1 + ad_v1_adni3_v1_mean[i] + '.nii'\n",
    "    cn_std = relevant_path_cn_v1_adni3 + cn_v1_adni3_std[i] + '.nii'\n",
    "    ad_std = relevant_path_ad_v1_adni3_v1 + ad_v1_adni3_v1_std[i] + '.nii'\n",
    "    cn_tmap = relevant_path_cn_v1_adni3 + cn_v1_adni3_tmap[i] + '.nii'\n",
    "    ad_tmap = relevant_path_ad_v1_adni3_v1 + ad_v1_adni3_v1_tmap[i] + '.nii'\n",
    "\n",
    "    out_mean = '/run/media/kevrodz/Salvador/ADNI3_KEV_CLAUDIA/rs-networks_mean_std_by_group/rs_networks_v1_ad_adni_v1/' + 'diff_' + ad_v1_adni3_v1_mean[i] + '.nii'\n",
    "    out_std = '/run/media/kevrodz/Salvador/ADNI3_KEV_CLAUDIA/rs-networks_mean_std_by_group/rs_networks_v1_ad_adni_v1/' + 'diff_' + ad_v1_adni3_v1_std[i] + '.nii'\n",
    "    out_tmap = '/run/media/kevrodz/Salvador/ADNI3_KEV_CLAUDIA/rs-networks_mean_std_by_group/rs_networks_v1_ad_adni_v1/' + 'diff_' + ad_v1_adni3_v1_tmap[i] + '.nii'\n",
    "\n",
    "    res_mean = mri_overlap(cn_mean, ad_mean, out_mean)\n",
    "    res_std = mri_overlap(cn_std, ad_std, out_std)\n",
    "    res_tmap = mri_overlap(cn_tmap, ad_tmap, out_tmap)\n",
    "\n",
    "    results_v1_adni3_mean.append(res_mean.outputs)\n",
    "    dice_mean.append(res_mean.outputs.dice)\n",
    "    jaccard_mean.append(res_mean.outputs.jaccard)\n",
    "    volume_difference_mean.append(res_mean.outputs.volume_difference)\n",
    "\n",
    "    results_v1_adni3_std.append(res_std.outputs)\n",
    "    dice_std.append(res_std.outputs.dice)\n",
    "    jaccard_std.append(res_std.outputs.jaccard)\n",
    "    volume_difference_std.append(res_std.outputs.volume_difference)\n",
    "\n",
    "    results_v1_adni3_tmap.append(res_tmap.outputs)\n",
    "    dice_tmap.append(res_tmap.outputs.dice)\n",
    "    jaccard_tmap.append(res_tmap.outputs.jaccard)\n",
    "    volume_difference_tmap.append(res_tmap.outputs.volume_difference)"
   ],
   "metadata": {
    "collapsed": false,
    "pycharm": {
     "name": "#%%\n"
    }
   }
  },
  {
   "cell_type": "code",
   "execution_count": null,
   "outputs": [],
   "source": [
    "adni3_rs_networks_v1_mean = pd.DataFrame({'rs_network': rs_networks_v1,\n",
    "                                           'Dice': dice_mean,\n",
    "                                           'Jaccard': jaccard_mean,\n",
    "                                           'volume_difference': volume_difference_mean})\n",
    "adni3_rs_networks_v1_std = pd.DataFrame({'rs_network': rs_networks_v1,\n",
    "                                           'Dice': dice_std,\n",
    "                                           'Jaccard': jaccard_std,\n",
    "                                           'volume_difference': volume_difference_std})\n",
    "adni3_rs_networks_v1_tmap = pd.DataFrame({'rs_network': rs_networks_v1,\n",
    "                                           'Dice': dice_tmap,\n",
    "                                           'Jaccard': jaccard_tmap,\n",
    "                                           'volume_difference': volume_difference_tmap})\n",
    "adni3_rs_networks_v1_mean.to_csv('/run/media/kevrodz/Salvador/ADNI3_KEV_CLAUDIA/rs-networks_mean_std_by_group/rs_networks_v1_ad_adni_v1/ad_adni3_v1_rs_networks_v1_mean.csv', index=False)\n",
    "adni3_rs_networks_v1_mean.to_excel('/run/media/kevrodz/Salvador/ADNI3_KEV_CLAUDIA/rs-networks_mean_std_by_group/rs_networks_v1_ad_adni_v1/ad_adni3_v1_rs_networks_v1_mean.xlsx', sheet_name='rs_networks_diff')\n",
    "adni3_rs_networks_v1_std.to_csv('/run/media/kevrodz/Salvador/ADNI3_KEV_CLAUDIA/rs-networks_mean_std_by_group/rs_networks_v1_ad_adni_v1/ad_adni3_v1_rs_networks_v1_std.csv', index=False)\n",
    "adni3_rs_networks_v1_std.to_excel('/run/media/kevrodz/Salvador/ADNI3_KEV_CLAUDIA/rs-networks_mean_std_by_group/rs_networks_v1_ad_adni_v1/ad_adni3_v1_rs_networks_v1_std.xlsx', sheet_name='rs_networks_diff')\n",
    "adni3_rs_networks_v1_tmap.to_csv('/run/media/kevrodz/Salvador/ADNI3_KEV_CLAUDIA/rs-networks_mean_std_by_group/rs_networks_v1_ad_adni_v1/ad_adni3_v1_rs_networks_v1_tmap.csv', index=False)\n",
    "adni3_rs_networks_v1_tmap.to_excel('/run/media/kevrodz/Salvador/ADNI3_KEV_CLAUDIA/rs-networks_mean_std_by_group/rs_networks_v1_ad_adni_v1/ad_adni3_v1_rs_networks_v1_tmap.xlsx', sheet_name='rs_networks_diff')"
   ],
   "metadata": {
    "collapsed": false,
    "pycharm": {
     "name": "#%%\n"
    }
   }
  },
  {
   "cell_type": "code",
   "execution_count": 11,
   "outputs": [],
   "source": [
    "dice_mean = []\n",
    "jaccard_mean = []\n",
    "volume_difference_mean = []\n",
    "dice_std = []\n",
    "jaccard_std = []\n",
    "volume_difference_std = []\n",
    "dice_tmap = []\n",
    "jaccard_tmap= []\n",
    "volume_difference_tmap = []\n",
    "results_v1_adni3_mean = []\n",
    "results_v1_adni3_std = []\n",
    "results_v1_adni3_tmap = []\n",
    "\n",
    "for i in range(len(cn_v1_oasis3_mean)):\n",
    "    cn_mean = relevant_path_cn_ad_v1_adni3_v2 + cn_ad_v1_adni3_v2_mean[i] + '.nii'\n",
    "    ad_mean = relevant_path_ad_v1_adni3_v2 + ad_v1_adni3_v2_mean[i] + '.nii'\n",
    "    cn_std = relevant_path_cn_ad_v1_adni3_v2 + cn_ad_v1_adni3_v2_std[i] + '.nii'\n",
    "    ad_std = relevant_path_ad_v1_adni3_v2 + ad_v_adni3_v2_std[i] + '.nii'\n",
    "    cn_tmap = relevant_path_cn_ad_v1_adni3_v2 + cn_ad_v1_adni3_v2_tmap[i] + '.nii'\n",
    "    ad_tmap = relevant_path_ad_v1_adni3_v2 + ad_v1_adni3_v2_tmap[i] + '.nii'\n",
    "\n",
    "    out_mean = '/run/media/kevrodz/Salvador/ADNI3_KEV_CLAUDIA/rs-networks_mean_std_by_group/rs_networks_v1_ad_adni_v2/' + 'diff_' + ad_v1_adni3_v2_mean[i] + '.nii'\n",
    "    out_std = '/run/media/kevrodz/Salvador/ADNI3_KEV_CLAUDIA/rs-networks_mean_std_by_group/rs_networks_v1_ad_adni_v2/' + 'diff_' + ad_v_adni3_v2_std[i] + '.nii'\n",
    "    out_tmap = '/run/media/kevrodz/Salvador/ADNI3_KEV_CLAUDIA/rs-networks_mean_std_by_group/rs_networks_v1_ad_adni_v2/' + 'diff_' + ad_v1_adni3_v2_tmap[i] + '.nii'\n",
    "\n",
    "    res_mean = mri_overlap(cn_mean, ad_mean, out_mean)\n",
    "    res_std = mri_overlap(cn_std, ad_std, out_std)\n",
    "    res_tmap = mri_overlap(cn_tmap, ad_tmap, out_tmap)\n",
    "\n",
    "    results_v1_adni3_mean.append(res_mean.outputs)\n",
    "    dice_mean.append(res_mean.outputs.dice)\n",
    "    jaccard_mean.append(res_mean.outputs.jaccard)\n",
    "    volume_difference_mean.append(res_mean.outputs.volume_difference)\n",
    "\n",
    "    results_v1_adni3_std.append(res_std.outputs)\n",
    "    dice_std.append(res_std.outputs.dice)\n",
    "    jaccard_std.append(res_std.outputs.jaccard)\n",
    "    volume_difference_std.append(res_std.outputs.volume_difference)\n",
    "\n",
    "    results_v1_adni3_tmap.append(res_tmap.outputs)\n",
    "    dice_tmap.append(res_tmap.outputs.dice)\n",
    "    jaccard_tmap.append(res_tmap.outputs.jaccard)\n",
    "    volume_difference_tmap.append(res_tmap.outputs.volume_difference)"
   ],
   "metadata": {
    "collapsed": false,
    "pycharm": {
     "name": "#%%\n"
    }
   }
  },
  {
   "cell_type": "code",
   "execution_count": 12,
   "outputs": [],
   "source": [
    "adni3_rs_networks_v1_mean = pd.DataFrame({'rs_network': rs_networks_v1,\n",
    "                                           'Dice': dice_mean,\n",
    "                                           'Jaccard': jaccard_mean,\n",
    "                                           'volume_difference': volume_difference_mean})\n",
    "adni3_rs_networks_v1_std = pd.DataFrame({'rs_network': rs_networks_v1,\n",
    "                                           'Dice': dice_std,\n",
    "                                           'Jaccard': jaccard_std,\n",
    "                                           'volume_difference': volume_difference_std})\n",
    "adni3_rs_networks_v1_tmap = pd.DataFrame({'rs_network': rs_networks_v1,\n",
    "                                           'Dice': dice_tmap,\n",
    "                                           'Jaccard': jaccard_tmap,\n",
    "                                           'volume_difference': volume_difference_tmap})\n",
    "adni3_rs_networks_v1_mean.to_csv('/run/media/kevrodz/Salvador/ADNI3_KEV_CLAUDIA/rs-networks_mean_std_by_group/rs_networks_v1_ad_adni_v2/ad_adni3_v2_rs_networks_v1_mean.csv', index=False)\n",
    "adni3_rs_networks_v1_mean.to_excel('/run/media/kevrodz/Salvador/ADNI3_KEV_CLAUDIA/rs-networks_mean_std_by_group/rs_networks_v1_ad_adni_v2/ad_adni3_v2_rs_networks_v1_mean.xlsx', sheet_name='rs_networks_diff')\n",
    "adni3_rs_networks_v1_std.to_csv('/run/media/kevrodz/Salvador/ADNI3_KEV_CLAUDIA/rs-networks_mean_std_by_group/rs_networks_v1_ad_adni_v2/ad_adni3_v2_rs_networks_v1_std.csv', index=False)\n",
    "adni3_rs_networks_v1_std.to_excel('/run/media/kevrodz/Salvador/ADNI3_KEV_CLAUDIA/rs-networks_mean_std_by_group/rs_networks_v1_ad_adni_v2/ad_adni3_v2_rs_networks_v1_std.xlsx', sheet_name='rs_networks_diff')\n",
    "adni3_rs_networks_v1_tmap.to_csv('/run/media/kevrodz/Salvador/ADNI3_KEV_CLAUDIA/rs-networks_mean_std_by_group/rs_networks_v1_ad_adni_v2/ad_adni3_v2_rs_networks_v1_tmap.csv', index=False)\n",
    "adni3_rs_networks_v1_tmap.to_excel('/run/media/kevrodz/Salvador/ADNI3_KEV_CLAUDIA/rs-networks_mean_std_by_group/rs_networks_v1_ad_adni_v2/ad_adni3_v2_rs_networks_v1_tmap.xlsx', sheet_name='rs_networks_diff')"
   ],
   "metadata": {
    "collapsed": false,
    "pycharm": {
     "name": "#%%\n"
    }
   }
  },
  {
   "cell_type": "code",
   "execution_count": 13,
   "outputs": [],
   "source": [
    "dice_mean = []\n",
    "jaccard_mean = []\n",
    "volume_difference_mean = []\n",
    "dice_std = []\n",
    "jaccard_std = []\n",
    "volume_difference_std = []\n",
    "dice_tmap = []\n",
    "jaccard_tmap= []\n",
    "volume_difference_tmap = []\n",
    "results_v1_adni3_mean = []\n",
    "results_v1_adni3_std = []\n",
    "results_v1_adni3_tmap = []\n",
    "\n",
    "for i in range(len(cn_v1_oasis3_mean)):\n",
    "    cn_mean = relevant_path_cn_mci_v1_adni3_v2 + cn_mci_v1_adni3_v2_mean[i] + '.nii'\n",
    "    ad_mean = relevant_path_mci_v1_adni3_v2 + mci_v1_adni3_v2_mean[i] + '.nii'\n",
    "    cn_std = relevant_path_cn_mci_v1_adni3_v2 + cn_mci_v1_adni3_v2_std[i] + '.nii'\n",
    "    ad_std = relevant_path_mci_v1_adni3_v2 + mci_v1_adni3_v2_std[i] + '.nii'\n",
    "    cn_tmap = relevant_path_cn_mci_v1_adni3_v2 + cn_mci_v1_adni3_v2_tmap[i] + '.nii'\n",
    "    ad_tmap = relevant_path_mci_v1_adni3_v2 + mci_v1_adni3_v2_tmap[i] + '.nii'\n",
    "\n",
    "    out_mean = '/run/media/kevrodz/Salvador/ADNI3_KEV_CLAUDIA/rs-networks_mean_std_by_group/rs_networks_v1_mci_adni_v2/' + 'diff_' + mci_v1_adni3_v2_mean[i] + '.nii'\n",
    "    out_std = '/run/media/kevrodz/Salvador/ADNI3_KEV_CLAUDIA/rs-networks_mean_std_by_group/rs_networks_v1_mci_adni_v2/' + 'diff_' + mci_v1_adni3_v2_std[i] + '.nii'\n",
    "    out_tmap = '/run/media/kevrodz/Salvador/ADNI3_KEV_CLAUDIA/rs-networks_mean_std_by_group/rs_networks_v1_mci_adni_v2/' + 'diff_' + mci_v1_adni3_v2_tmap[i] + '.nii'\n",
    "\n",
    "    res_mean = mri_overlap(cn_mean, ad_mean, out_mean)\n",
    "    res_std = mri_overlap(cn_std, ad_std, out_std)\n",
    "    res_tmap = mri_overlap(cn_tmap, ad_tmap, out_tmap)\n",
    "\n",
    "    results_v1_adni3_mean.append(res_mean.outputs)\n",
    "    dice_mean.append(res_mean.outputs.dice)\n",
    "    jaccard_mean.append(res_mean.outputs.jaccard)\n",
    "    volume_difference_mean.append(res_mean.outputs.volume_difference)\n",
    "\n",
    "    results_v1_adni3_std.append(res_std.outputs)\n",
    "    dice_std.append(res_std.outputs.dice)\n",
    "    jaccard_std.append(res_std.outputs.jaccard)\n",
    "    volume_difference_std.append(res_std.outputs.volume_difference)\n",
    "\n",
    "    results_v1_adni3_tmap.append(res_tmap.outputs)\n",
    "    dice_tmap.append(res_tmap.outputs.dice)\n",
    "    jaccard_tmap.append(res_tmap.outputs.jaccard)\n",
    "    volume_difference_tmap.append(res_tmap.outputs.volume_difference)"
   ],
   "metadata": {
    "collapsed": false,
    "pycharm": {
     "name": "#%%\n"
    }
   }
  },
  {
   "cell_type": "code",
   "execution_count": 14,
   "outputs": [],
   "source": [
    "adni3_rs_networks_v1_mean = pd.DataFrame({'rs_network': rs_networks_v1,\n",
    "                                           'Dice': dice_mean,\n",
    "                                           'Jaccard': jaccard_mean,\n",
    "                                           'volume_difference': volume_difference_mean})\n",
    "adni3_rs_networks_v1_std = pd.DataFrame({'rs_network': rs_networks_v1,\n",
    "                                           'Dice': dice_std,\n",
    "                                           'Jaccard': jaccard_std,\n",
    "                                           'volume_difference': volume_difference_std})\n",
    "adni3_rs_networks_v1_tmap = pd.DataFrame({'rs_network': rs_networks_v1,\n",
    "                                           'Dice': dice_tmap,\n",
    "                                           'Jaccard': jaccard_tmap,\n",
    "                                           'volume_difference': volume_difference_tmap})\n",
    "adni3_rs_networks_v1_mean.to_csv('/run/media/kevrodz/Salvador/ADNI3_KEV_CLAUDIA/rs-networks_mean_std_by_group/rs_networks_v1_mci_adni_v2/mci_adni3_v2_rs_networks_v1_mean.csv', index=False)\n",
    "adni3_rs_networks_v1_mean.to_excel('/run/media/kevrodz/Salvador/ADNI3_KEV_CLAUDIA/rs-networks_mean_std_by_group/rs_networks_v1_mci_adni_v2/mci_adni3_v2_rs_networks_v1_mean.xlsx', sheet_name='rs_networks_diff')\n",
    "adni3_rs_networks_v1_std.to_csv('/run/media/kevrodz/Salvador/ADNI3_KEV_CLAUDIA/rs-networks_mean_std_by_group/rs_networks_v1_mci_adni_v2/mci_adni3_v2_rs_networks_v1_std.csv', index=False)\n",
    "adni3_rs_networks_v1_std.to_excel('/run/media/kevrodz/Salvador/ADNI3_KEV_CLAUDIA/rs-networks_mean_std_by_group/rs_networks_v1_mci_adni_v2/mci_adni3_v2_rs_networks_v1_std.xlsx', sheet_name='rs_networks_diff')\n",
    "adni3_rs_networks_v1_tmap.to_csv('/run/media/kevrodz/Salvador/ADNI3_KEV_CLAUDIA/rs-networks_mean_std_by_group/rs_networks_v1_mci_adni_v2/mci_adni3_v2_rs_networks_v1_tmap.csv', index=False)\n",
    "adni3_rs_networks_v1_tmap.to_excel('/run/media/kevrodz/Salvador/ADNI3_KEV_CLAUDIA/rs-networks_mean_std_by_group/rs_networks_v1_mci_adni_v2/mci_adni3_v2_rs_networks_v1_tmap.xlsx', sheet_name='rs_networks_diff')"
   ],
   "metadata": {
    "collapsed": false,
    "pycharm": {
     "name": "#%%\n"
    }
   }
  },
  {
   "cell_type": "code",
   "execution_count": 113,
   "outputs": [],
   "source": [
    "dice_mean = []\n",
    "jaccard_mean = []\n",
    "volume_difference_mean = []\n",
    "dice_std = []\n",
    "jaccard_std = []\n",
    "volume_difference_std = []\n",
    "dice_tmap = []\n",
    "jaccard_tmap= []\n",
    "volume_difference_tmap = []\n",
    "results_v1_adni3_mean = []\n",
    "results_v1_adni3_std = []\n",
    "results_v1_adni3_tmap = []\n",
    "\n",
    "for i in range(len(cn_v1_oasis3_mean)):\n",
    "    cn_mean = relevant_path_cn_v1_adni3 + cn_v1_adni3_mean[i] + '.nii'\n",
    "    ad_mean = relevant_path_mci_v1_adni3_v1 + mci_v1_adni3_v1_mean[i] + '.nii'\n",
    "    cn_std = relevant_path_cn_v1_adni3 + cn_v1_adni3_std[i] + '.nii'\n",
    "    ad_std = relevant_path_mci_v1_adni3_v1 + mci_v1_adni3_v1_std[i] + '.nii'\n",
    "    cn_tmap = relevant_path_cn_v1_adni3 + cn_v1_adni3_tmap[i] + '.nii'\n",
    "    ad_tmap = relevant_path_mci_v1_adni3_v1 + mci_v1_adni3_v1_tmap[i] + '.nii'\n",
    "\n",
    "    out_mean = '/run/media/kevrodz/Salvador/ADNI3_KEV_CLAUDIA/rs-networks_mean_std_by_group/rs_networks_v1_mci_adni_v1/' + 'diff_' + mci_v1_adni3_v1_mean[i] + '.nii'\n",
    "    out_std = '/run/media/kevrodz/Salvador/ADNI3_KEV_CLAUDIA/rs-networks_mean_std_by_group/rs_networks_v1_mci_adni_v1/' + 'diff_' + mci_v1_adni3_v1_std[i] + '.nii'\n",
    "    out_tmap = '/run/media/kevrodz/Salvador/ADNI3_KEV_CLAUDIA/rs-networks_mean_std_by_group/rs_networks_v1_mci_adni_v1/' + 'diff_' + mci_v1_adni3_v1_tmap[i] + '.nii'\n",
    "\n",
    "    res_mean = mri_overlap(cn_mean, ad_mean, out_mean)\n",
    "    res_std = mri_overlap(cn_std, ad_std, out_std)\n",
    "    res_tmap = mri_overlap(cn_tmap, ad_tmap, out_tmap)\n",
    "\n",
    "    results_v1_adni3_mean.append(res_mean.outputs)\n",
    "    dice_mean.append(res_mean.outputs.dice)\n",
    "    jaccard_mean.append(res_mean.outputs.jaccard)\n",
    "    volume_difference_mean.append(res_mean.outputs.volume_difference)\n",
    "\n",
    "    results_v1_adni3_std.append(res_std.outputs)\n",
    "    dice_std.append(res_std.outputs.dice)\n",
    "    jaccard_std.append(res_std.outputs.jaccard)\n",
    "    volume_difference_std.append(res_std.outputs.volume_difference)\n",
    "\n",
    "    results_v1_adni3_tmap.append(res_tmap.outputs)\n",
    "    dice_tmap.append(res_tmap.outputs.dice)\n",
    "    jaccard_tmap.append(res_tmap.outputs.jaccard)\n",
    "    volume_difference_tmap.append(res_tmap.outputs.volume_difference)"
   ],
   "metadata": {
    "collapsed": false,
    "pycharm": {
     "name": "#%%\n"
    }
   }
  },
  {
   "cell_type": "code",
   "execution_count": 114,
   "outputs": [],
   "source": [
    "adni3_rs_networks_v1_mean = pd.DataFrame({'rs_network': rs_networks_v1,\n",
    "                                           'Dice': dice_mean,\n",
    "                                           'Jaccard': jaccard_mean,\n",
    "                                           'volume_difference': volume_difference_mean})\n",
    "adni3_rs_networks_v1_std = pd.DataFrame({'rs_network': rs_networks_v1,\n",
    "                                           'Dice': dice_std,\n",
    "                                           'Jaccard': jaccard_std,\n",
    "                                           'volume_difference': volume_difference_std})\n",
    "adni3_rs_networks_v1_tmap = pd.DataFrame({'rs_network': rs_networks_v1,\n",
    "                                           'Dice': dice_tmap,\n",
    "                                           'Jaccard': jaccard_tmap,\n",
    "                                           'volume_difference': volume_difference_tmap})\n",
    "adni3_rs_networks_v1_mean.to_csv('/run/media/kevrodz/Salvador/ADNI3_KEV_CLAUDIA/rs-networks_mean_std_by_group/rs_networks_v1_mci_adni_v1/mci_adni3_v1_rs_networks_v1_mean.csv', index=False)\n",
    "adni3_rs_networks_v1_mean.to_excel('/run/media/kevrodz/Salvador/ADNI3_KEV_CLAUDIA/rs-networks_mean_std_by_group/rs_networks_v1_mci_adni_v1/mci_adni3_v1_rs_networks_v1_mean.xlsx', sheet_name='rs_networks_diff')\n",
    "adni3_rs_networks_v1_std.to_csv('/run/media/kevrodz/Salvador/ADNI3_KEV_CLAUDIA/rs-networks_mean_std_by_group/rs_networks_v1_mci_adni_v1/mci_adni3_v1_rs_networks_v1_std.csv', index=False)\n",
    "adni3_rs_networks_v1_std.to_excel('/run/media/kevrodz/Salvador/ADNI3_KEV_CLAUDIA/rs-networks_mean_std_by_group/rs_networks_v1_mci_adni_v1/mci_adni3_v1_rs_networks_v1_std.xlsx', sheet_name='rs_networks_diff')\n",
    "adni3_rs_networks_v1_tmap.to_csv('/run/media/kevrodz/Salvador/ADNI3_KEV_CLAUDIA/rs-networks_mean_std_by_group/rs_networks_v1_mci_adni_v1/mci_adni3_v1_rs_networks_v1_tmap.csv', index=False)\n",
    "adni3_rs_networks_v1_tmap.to_excel('/run/media/kevrodz/Salvador/ADNI3_KEV_CLAUDIA/rs-networks_mean_std_by_group/rs_networks_v1_mci_adni_v1/mci_adni3_v1_rs_networks_v1_tmap.xlsx', sheet_name='rs_networks_diff')"
   ],
   "metadata": {
    "collapsed": false,
    "pycharm": {
     "name": "#%%\n"
    }
   }
  },
  {
   "cell_type": "code",
   "execution_count": null,
   "outputs": [],
   "source": [],
   "metadata": {
    "collapsed": false,
    "pycharm": {
     "name": "#%%\n"
    }
   }
  }
 ],
 "metadata": {
  "kernelspec": {
   "display_name": "Python 3",
   "language": "python",
   "name": "python3"
  },
  "language_info": {
   "codemirror_mode": {
    "name": "ipython",
    "version": 2
   },
   "file_extension": ".py",
   "mimetype": "text/x-python",
   "name": "python",
   "nbconvert_exporter": "python",
   "pygments_lexer": "ipython2",
   "version": "2.7.6"
  }
 },
 "nbformat": 4,
 "nbformat_minor": 0
}