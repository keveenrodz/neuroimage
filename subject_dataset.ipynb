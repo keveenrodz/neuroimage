{
 "cells": [
  {
   "cell_type": "markdown",
   "source": [
    "This script configure the subject dataset, adding th subject path to the excel file with demographics"
   ],
   "metadata": {
    "collapsed": false,
    "pycharm": {
     "name": "#%% md\n"
    }
   }
  },
  {
   "cell_type": "code",
   "execution_count": 3,
   "outputs": [],
   "source": [
    "import pandas as pd\n",
    "import re\n",
    "import itertools\n",
    "import os"
   ],
   "metadata": {
    "collapsed": false,
    "pycharm": {
     "name": "#%%\n"
    }
   }
  },
  {
   "cell_type": "code",
   "execution_count": 4,
   "outputs": [
    {
     "name": "stdout",
     "output_type": "stream",
     "text": [
      "GROUP:\t SUBJECTS\n",
      "ad_adni3_file_names: 27\n",
      "ad_oasis3_file_names: 37\n",
      "mci_adni3_file_names: 58\n",
      "cn_ad_adni3_file_names: 29\n",
      "cn_ad_oasis3_file_names: 56\n",
      "cn_mci_adni3_file_names: 57\n"
     ]
    }
   ],
   "source": [
    "\n",
    "included_extensions = ['nii', 'gz']\n",
    "include = ['dswau']\n",
    "#\n",
    "# ad_adni3_path = '/run/media/kevrodz/Salvador/ADNI3_KEV_CLAUDIA/AD_ADNI3_V2/'\n",
    "# ad_oasis3_path = '/run/media/kevrodz/Salvador/ADNI3_KEV_CLAUDIA/AD_OASIS3/'\n",
    "# mci_adni3_path = '/run/media/kevrodz/Salvador/ADNI3_KEV_CLAUDIA/MCI_V2_ADNI3/'\n",
    "# cn_ad_adni3_path = '/run/media/kevrodz/Salvador/ADNI3_KEV_CLAUDIA/CN_AD_ADNI3/'\n",
    "# cn_ad_oasis3_path = '/run/media/kevrodz/Salvador/ADNI3_KEV_CLAUDIA/CN_OASIS3/'\n",
    "# cn_mci_adni3_path = '/run/media/kevrodz/Salvador/ADNI3_KEV_CLAUDIA/CN_MCI_ADNI3/'\n",
    "\n",
    "\n",
    "ad_adni3_path = '/run/media/kevrodz/GRUNECO/ADNI3_vols_originales_raw_preprocesados/AD/funcional_denoising/'\n",
    "ad_oasis3_path = '/run/media/kevrodz/GRUNECO/OASIS3_preproc/AD_OASIS3/'\n",
    "mci_adni3_path = '/run/media/kevrodz/GRUNECO/ADNI3_vols_originales_raw_preprocesados/MCI/funcional_denoising/'\n",
    "cn_ad_adni3_path = '/run/media/kevrodz/GRUNECO/ADNI3_vols_originales_raw_preprocesados/CN_AD/funcional_denoising/'\n",
    "cn_ad_oasis3_path = '/run/media/kevrodz/GRUNECO/OASIS3_preproc/CN_OASIS3/'\n",
    "cn_mci_adni3_path = '/run/media/kevrodz/GRUNECO/ADNI3_vols_originales_raw_preprocesados/CN_MCI/funcional_denoising/'\n",
    "\n",
    "ad_adni3_file_names = [fn for fn in os.listdir(ad_adni3_path)\n",
    "                       if any(fn.endswith(ext) for ext in included_extensions)]\n",
    "ad_oasis3_file_names = [fn for fn in os.listdir(ad_oasis3_path)\n",
    "                       if any(fn.endswith(ext) for ext in included_extensions)]\n",
    "mci_adni3_file_names = [fn for fn in os.listdir(mci_adni3_path)\n",
    "                       if any(fn.endswith(ext) for ext in included_extensions)]\n",
    "cn_ad_adni3_file_names = [fn for fn in os.listdir(cn_ad_adni3_path)\n",
    "                       if any(fn.endswith(ext) for ext in included_extensions)]\n",
    "cn_ad_oasis3_file_names = [fn for fn in os.listdir(cn_ad_oasis3_path)\n",
    "                       if any(fn.endswith(ext) for ext in included_extensions)]\n",
    "cn_mci_adni3_file_names = [fn for fn in os.listdir(cn_mci_adni3_path)\n",
    "                       if any(fn.endswith(ext) for ext in included_extensions)]\n",
    "\n",
    "file_names = [ad_adni3_file_names, ad_oasis3_file_names, mci_adni3_file_names,\n",
    "              cn_ad_adni3_file_names, cn_ad_oasis3_file_names, cn_mci_adni3_file_names]\n",
    "print('GROUP:\\t SUBJECTS')\n",
    "print(f'ad_adni3_file_names: {len(ad_adni3_file_names)}\\nad_oasis3_file_names: {len(ad_oasis3_file_names)}'\n",
    "      f'\\nmci_adni3_file_names: {len(mci_adni3_file_names)}\\ncn_ad_adni3_file_names: {len(cn_ad_adni3_file_names)}'\n",
    "      f'\\ncn_ad_oasis3_file_names: {len(cn_ad_oasis3_file_names)}\\ncn_mci_adni3_file_names: {len((cn_mci_adni3_file_names))}')"
   ],
   "metadata": {
    "collapsed": false,
    "pycharm": {
     "name": "#%%\n"
    }
   }
  },
  {
   "cell_type": "code",
   "execution_count": 5,
   "outputs": [
    {
     "data": {
      "text/plain": "         ID  SEXO  EDAD  APOE  MMSE  CDR_total  CDR_SOB  Escolaridad  Scanner  \\\ncentro                                                                          \nADNI3   171   171   171   113   171        171      171          171      171   \nOASIS3   93    93    93    93    93         93       93           93       93   \n\n        status  \ncentro          \nADNI3      171  \nOASIS3      93  ",
      "text/html": "<div>\n<style scoped>\n    .dataframe tbody tr th:only-of-type {\n        vertical-align: middle;\n    }\n\n    .dataframe tbody tr th {\n        vertical-align: top;\n    }\n\n    .dataframe thead th {\n        text-align: right;\n    }\n</style>\n<table border=\"1\" class=\"dataframe\">\n  <thead>\n    <tr style=\"text-align: right;\">\n      <th></th>\n      <th>ID</th>\n      <th>SEXO</th>\n      <th>EDAD</th>\n      <th>APOE</th>\n      <th>MMSE</th>\n      <th>CDR_total</th>\n      <th>CDR_SOB</th>\n      <th>Escolaridad</th>\n      <th>Scanner</th>\n      <th>status</th>\n    </tr>\n    <tr>\n      <th>centro</th>\n      <th></th>\n      <th></th>\n      <th></th>\n      <th></th>\n      <th></th>\n      <th></th>\n      <th></th>\n      <th></th>\n      <th></th>\n      <th></th>\n    </tr>\n  </thead>\n  <tbody>\n    <tr>\n      <th>ADNI3</th>\n      <td>171</td>\n      <td>171</td>\n      <td>171</td>\n      <td>113</td>\n      <td>171</td>\n      <td>171</td>\n      <td>171</td>\n      <td>171</td>\n      <td>171</td>\n      <td>171</td>\n    </tr>\n    <tr>\n      <th>OASIS3</th>\n      <td>93</td>\n      <td>93</td>\n      <td>93</td>\n      <td>93</td>\n      <td>93</td>\n      <td>93</td>\n      <td>93</td>\n      <td>93</td>\n      <td>93</td>\n      <td>93</td>\n    </tr>\n  </tbody>\n</table>\n</div>"
     },
     "execution_count": 5,
     "metadata": {},
     "output_type": "execute_result"
    }
   ],
   "source": [
    "df_all = pd.read_excel('/run/media/kevrodz/Salvador/ADNI3_KEV_CLAUDIA/definitivos_ADNI3_OASIS3.xlsx', sheet_name='Todo_ADNI_OASIS')\n",
    "df_all.groupby('centro').count()"
   ],
   "metadata": {
    "collapsed": false,
    "pycharm": {
     "name": "#%%\n"
    }
   }
  },
  {
   "cell_type": "code",
   "execution_count": 6,
   "outputs": [
    {
     "data": {
      "text/plain": "     ID SEXO  EDAD  APOE  MMSE  CDR_total  CDR_SOB  Escolaridad  Scanner  \\\n0  6264    M  56.5  44.0    19        1.0      4.5           12  siemens   \n1  6833    F  87.1   NaN    23        0.5      4.5           16  siemens   \n2  6712    M  90.6   NaN    19        1.0      7.0           17  philips   \n3  6013    F  60.4  33.0    23        1.0      5.5           12  siemens   \n4  6690    F  67.8   NaN    20        1.0      6.0           14  siemens   \n\n  status centro  \n0     AD  ADNI3  \n1     AD  ADNI3  \n2     AD  ADNI3  \n3     AD  ADNI3  \n4     AD  ADNI3  ",
      "text/html": "<div>\n<style scoped>\n    .dataframe tbody tr th:only-of-type {\n        vertical-align: middle;\n    }\n\n    .dataframe tbody tr th {\n        vertical-align: top;\n    }\n\n    .dataframe thead th {\n        text-align: right;\n    }\n</style>\n<table border=\"1\" class=\"dataframe\">\n  <thead>\n    <tr style=\"text-align: right;\">\n      <th></th>\n      <th>ID</th>\n      <th>SEXO</th>\n      <th>EDAD</th>\n      <th>APOE</th>\n      <th>MMSE</th>\n      <th>CDR_total</th>\n      <th>CDR_SOB</th>\n      <th>Escolaridad</th>\n      <th>Scanner</th>\n      <th>status</th>\n      <th>centro</th>\n    </tr>\n  </thead>\n  <tbody>\n    <tr>\n      <th>0</th>\n      <td>6264</td>\n      <td>M</td>\n      <td>56.5</td>\n      <td>44.0</td>\n      <td>19</td>\n      <td>1.0</td>\n      <td>4.5</td>\n      <td>12</td>\n      <td>siemens</td>\n      <td>AD</td>\n      <td>ADNI3</td>\n    </tr>\n    <tr>\n      <th>1</th>\n      <td>6833</td>\n      <td>F</td>\n      <td>87.1</td>\n      <td>NaN</td>\n      <td>23</td>\n      <td>0.5</td>\n      <td>4.5</td>\n      <td>16</td>\n      <td>siemens</td>\n      <td>AD</td>\n      <td>ADNI3</td>\n    </tr>\n    <tr>\n      <th>2</th>\n      <td>6712</td>\n      <td>M</td>\n      <td>90.6</td>\n      <td>NaN</td>\n      <td>19</td>\n      <td>1.0</td>\n      <td>7.0</td>\n      <td>17</td>\n      <td>philips</td>\n      <td>AD</td>\n      <td>ADNI3</td>\n    </tr>\n    <tr>\n      <th>3</th>\n      <td>6013</td>\n      <td>F</td>\n      <td>60.4</td>\n      <td>33.0</td>\n      <td>23</td>\n      <td>1.0</td>\n      <td>5.5</td>\n      <td>12</td>\n      <td>siemens</td>\n      <td>AD</td>\n      <td>ADNI3</td>\n    </tr>\n    <tr>\n      <th>4</th>\n      <td>6690</td>\n      <td>F</td>\n      <td>67.8</td>\n      <td>NaN</td>\n      <td>20</td>\n      <td>1.0</td>\n      <td>6.0</td>\n      <td>14</td>\n      <td>siemens</td>\n      <td>AD</td>\n      <td>ADNI3</td>\n    </tr>\n  </tbody>\n</table>\n</div>"
     },
     "execution_count": 6,
     "metadata": {},
     "output_type": "execute_result"
    }
   ],
   "source": [
    "df_all.head()"
   ],
   "metadata": {
    "collapsed": false,
    "pycharm": {
     "name": "#%%\n"
    }
   }
  },
  {
   "cell_type": "code",
   "execution_count": 7,
   "outputs": [
    {
     "data": {
      "text/plain": "(264, 11)"
     },
     "execution_count": 7,
     "metadata": {},
     "output_type": "execute_result"
    }
   ],
   "source": [
    "df_all.shape"
   ],
   "metadata": {
    "collapsed": false,
    "pycharm": {
     "name": "#%%\n"
    }
   }
  },
  {
   "cell_type": "code",
   "execution_count": 8,
   "outputs": [
    {
     "data": {
      "text/plain": "6"
     },
     "execution_count": 8,
     "metadata": {},
     "output_type": "execute_result"
    }
   ],
   "source": [
    "len(file_names)"
   ],
   "metadata": {
    "collapsed": false,
    "pycharm": {
     "name": "#%%\n"
    }
   }
  },
  {
   "cell_type": "code",
   "execution_count": 9,
   "outputs": [],
   "source": [
    "list_set_adjusted = []\n",
    "list_set_adjusted_all = []\n",
    "\n",
    "for group in range(len(file_names)):\n",
    "    list_set = [list(i) for i in itertools.product(df_all.ID, file_names[group])]\n",
    "    for i in list_set:\n",
    "        if group in [0, 2, 3, 5]:  # ADNI3\n",
    "            if i[1].find(str('S_{0:04}'.format(i[0]))) != -1:\n",
    "                list_set_adjusted.append([i[0], str(i[1])])\n",
    "        elif group in [1, 4]:  # OASIS3\n",
    "            if isinstance(i[0], str):\n",
    "                if i[1].find(re.findall('\\d+', i[0])[0]) != -1:\n",
    "                    list_set_adjusted.append([i[0], str(i[1])])\n",
    "    #list_set_adjusted_all.append(list_set_adjusted)\n",
    "list_set_adjusted_all = pd.DataFrame(list_set_adjusted, columns=['ID', 'rs_fmri'])"
   ],
   "metadata": {
    "collapsed": false,
    "pycharm": {
     "name": "#%%\n"
    }
   }
  },
  {
   "cell_type": "code",
   "execution_count": 10,
   "outputs": [
    {
     "data": {
      "text/plain": "       ID                    rs_fmri\n0    6264   dswauADNI_003_S_6264.nii\n1    6833  dswauADNI_003_S_6833_.nii\n2    6712   dswauADNI_019_S_6712.nii\n3    6013  dswauADNI_022_S_6013_.nii\n4    6690  dswauADNI_082_S_6690_.nii\n..    ...                        ...\n259  6185  dswauADNI_020_S_6185_.nii\n260  6064  dswauADNI_168_S_6064_.nii\n261  6259  dswauADNI_003_S_6259_.nii\n262  6559   dswauADNI_126_S_6559.nii\n263  2332   dswauADNI_129_S_2332.nii\n\n[264 rows x 2 columns]",
      "text/html": "<div>\n<style scoped>\n    .dataframe tbody tr th:only-of-type {\n        vertical-align: middle;\n    }\n\n    .dataframe tbody tr th {\n        vertical-align: top;\n    }\n\n    .dataframe thead th {\n        text-align: right;\n    }\n</style>\n<table border=\"1\" class=\"dataframe\">\n  <thead>\n    <tr style=\"text-align: right;\">\n      <th></th>\n      <th>ID</th>\n      <th>rs_fmri</th>\n    </tr>\n  </thead>\n  <tbody>\n    <tr>\n      <th>0</th>\n      <td>6264</td>\n      <td>dswauADNI_003_S_6264.nii</td>\n    </tr>\n    <tr>\n      <th>1</th>\n      <td>6833</td>\n      <td>dswauADNI_003_S_6833_.nii</td>\n    </tr>\n    <tr>\n      <th>2</th>\n      <td>6712</td>\n      <td>dswauADNI_019_S_6712.nii</td>\n    </tr>\n    <tr>\n      <th>3</th>\n      <td>6013</td>\n      <td>dswauADNI_022_S_6013_.nii</td>\n    </tr>\n    <tr>\n      <th>4</th>\n      <td>6690</td>\n      <td>dswauADNI_082_S_6690_.nii</td>\n    </tr>\n    <tr>\n      <th>...</th>\n      <td>...</td>\n      <td>...</td>\n    </tr>\n    <tr>\n      <th>259</th>\n      <td>6185</td>\n      <td>dswauADNI_020_S_6185_.nii</td>\n    </tr>\n    <tr>\n      <th>260</th>\n      <td>6064</td>\n      <td>dswauADNI_168_S_6064_.nii</td>\n    </tr>\n    <tr>\n      <th>261</th>\n      <td>6259</td>\n      <td>dswauADNI_003_S_6259_.nii</td>\n    </tr>\n    <tr>\n      <th>262</th>\n      <td>6559</td>\n      <td>dswauADNI_126_S_6559.nii</td>\n    </tr>\n    <tr>\n      <th>263</th>\n      <td>2332</td>\n      <td>dswauADNI_129_S_2332.nii</td>\n    </tr>\n  </tbody>\n</table>\n<p>264 rows × 2 columns</p>\n</div>"
     },
     "execution_count": 10,
     "metadata": {},
     "output_type": "execute_result"
    }
   ],
   "source": [
    "list_set_adjusted_all.head(300)"
   ],
   "metadata": {
    "collapsed": false,
    "pycharm": {
     "name": "#%%\n"
    }
   }
  },
  {
   "cell_type": "code",
   "execution_count": 11,
   "outputs": [
    {
     "data": {
      "text/plain": "       ID SEXO  EDAD  APOE  MMSE  CDR_total  CDR_SOB  Escolaridad  \\\n0    6264    M  56.5  44.0    19        1.0      4.5           12   \n1    6833    F  87.1   NaN    23        0.5      4.5           16   \n2    6712    M  90.6   NaN    19        1.0      7.0           17   \n3    6013    F  60.4  33.0    23        1.0      5.5           12   \n4    6690    F  67.8   NaN    20        1.0      6.0           14   \n..    ...  ...   ...   ...   ...        ...      ...          ...   \n259  6185    M  82.7  33.0    27        0.0      0.5           18   \n260  6064    F  69.1   NaN    30        0.0      0.0           18   \n261  6259    M  71.4  34.0    29        0.0      0.0           14   \n262  6559    F  68.5  33.0    30        0.5      1.5           16   \n263  2332    F  76.7  23.0    30        0.0      0.0           16   \n\n              Scanner  status centro                    rs_fmri  \n0             siemens      AD  ADNI3   dswauADNI_003_S_6264.nii  \n1             siemens      AD  ADNI3  dswauADNI_003_S_6833_.nii  \n2             philips      AD  ADNI3   dswauADNI_019_S_6712.nii  \n3             siemens      AD  ADNI3  dswauADNI_022_S_6013_.nii  \n4             siemens      AD  ADNI3  dswauADNI_082_S_6690_.nii  \n..                ...     ...    ...                        ...  \n259           siemens  CN_MCI  ADNI3  dswauADNI_020_S_6185_.nii  \n260           siemens  CN_MCI  ADNI3  dswauADNI_168_S_6064_.nii  \n261           siemens  CN_MCI  ADNI3  dswauADNI_003_S_6259_.nii  \n262  general_electric  CN_MCI  ADNI3   dswauADNI_126_S_6559.nii  \n263  general_electric  CN_MCI  ADNI3   dswauADNI_129_S_2332.nii  \n\n[264 rows x 12 columns]",
      "text/html": "<div>\n<style scoped>\n    .dataframe tbody tr th:only-of-type {\n        vertical-align: middle;\n    }\n\n    .dataframe tbody tr th {\n        vertical-align: top;\n    }\n\n    .dataframe thead th {\n        text-align: right;\n    }\n</style>\n<table border=\"1\" class=\"dataframe\">\n  <thead>\n    <tr style=\"text-align: right;\">\n      <th></th>\n      <th>ID</th>\n      <th>SEXO</th>\n      <th>EDAD</th>\n      <th>APOE</th>\n      <th>MMSE</th>\n      <th>CDR_total</th>\n      <th>CDR_SOB</th>\n      <th>Escolaridad</th>\n      <th>Scanner</th>\n      <th>status</th>\n      <th>centro</th>\n      <th>rs_fmri</th>\n    </tr>\n  </thead>\n  <tbody>\n    <tr>\n      <th>0</th>\n      <td>6264</td>\n      <td>M</td>\n      <td>56.5</td>\n      <td>44.0</td>\n      <td>19</td>\n      <td>1.0</td>\n      <td>4.5</td>\n      <td>12</td>\n      <td>siemens</td>\n      <td>AD</td>\n      <td>ADNI3</td>\n      <td>dswauADNI_003_S_6264.nii</td>\n    </tr>\n    <tr>\n      <th>1</th>\n      <td>6833</td>\n      <td>F</td>\n      <td>87.1</td>\n      <td>NaN</td>\n      <td>23</td>\n      <td>0.5</td>\n      <td>4.5</td>\n      <td>16</td>\n      <td>siemens</td>\n      <td>AD</td>\n      <td>ADNI3</td>\n      <td>dswauADNI_003_S_6833_.nii</td>\n    </tr>\n    <tr>\n      <th>2</th>\n      <td>6712</td>\n      <td>M</td>\n      <td>90.6</td>\n      <td>NaN</td>\n      <td>19</td>\n      <td>1.0</td>\n      <td>7.0</td>\n      <td>17</td>\n      <td>philips</td>\n      <td>AD</td>\n      <td>ADNI3</td>\n      <td>dswauADNI_019_S_6712.nii</td>\n    </tr>\n    <tr>\n      <th>3</th>\n      <td>6013</td>\n      <td>F</td>\n      <td>60.4</td>\n      <td>33.0</td>\n      <td>23</td>\n      <td>1.0</td>\n      <td>5.5</td>\n      <td>12</td>\n      <td>siemens</td>\n      <td>AD</td>\n      <td>ADNI3</td>\n      <td>dswauADNI_022_S_6013_.nii</td>\n    </tr>\n    <tr>\n      <th>4</th>\n      <td>6690</td>\n      <td>F</td>\n      <td>67.8</td>\n      <td>NaN</td>\n      <td>20</td>\n      <td>1.0</td>\n      <td>6.0</td>\n      <td>14</td>\n      <td>siemens</td>\n      <td>AD</td>\n      <td>ADNI3</td>\n      <td>dswauADNI_082_S_6690_.nii</td>\n    </tr>\n    <tr>\n      <th>...</th>\n      <td>...</td>\n      <td>...</td>\n      <td>...</td>\n      <td>...</td>\n      <td>...</td>\n      <td>...</td>\n      <td>...</td>\n      <td>...</td>\n      <td>...</td>\n      <td>...</td>\n      <td>...</td>\n      <td>...</td>\n    </tr>\n    <tr>\n      <th>259</th>\n      <td>6185</td>\n      <td>M</td>\n      <td>82.7</td>\n      <td>33.0</td>\n      <td>27</td>\n      <td>0.0</td>\n      <td>0.5</td>\n      <td>18</td>\n      <td>siemens</td>\n      <td>CN_MCI</td>\n      <td>ADNI3</td>\n      <td>dswauADNI_020_S_6185_.nii</td>\n    </tr>\n    <tr>\n      <th>260</th>\n      <td>6064</td>\n      <td>F</td>\n      <td>69.1</td>\n      <td>NaN</td>\n      <td>30</td>\n      <td>0.0</td>\n      <td>0.0</td>\n      <td>18</td>\n      <td>siemens</td>\n      <td>CN_MCI</td>\n      <td>ADNI3</td>\n      <td>dswauADNI_168_S_6064_.nii</td>\n    </tr>\n    <tr>\n      <th>261</th>\n      <td>6259</td>\n      <td>M</td>\n      <td>71.4</td>\n      <td>34.0</td>\n      <td>29</td>\n      <td>0.0</td>\n      <td>0.0</td>\n      <td>14</td>\n      <td>siemens</td>\n      <td>CN_MCI</td>\n      <td>ADNI3</td>\n      <td>dswauADNI_003_S_6259_.nii</td>\n    </tr>\n    <tr>\n      <th>262</th>\n      <td>6559</td>\n      <td>F</td>\n      <td>68.5</td>\n      <td>33.0</td>\n      <td>30</td>\n      <td>0.5</td>\n      <td>1.5</td>\n      <td>16</td>\n      <td>general_electric</td>\n      <td>CN_MCI</td>\n      <td>ADNI3</td>\n      <td>dswauADNI_126_S_6559.nii</td>\n    </tr>\n    <tr>\n      <th>263</th>\n      <td>2332</td>\n      <td>F</td>\n      <td>76.7</td>\n      <td>23.0</td>\n      <td>30</td>\n      <td>0.0</td>\n      <td>0.0</td>\n      <td>16</td>\n      <td>general_electric</td>\n      <td>CN_MCI</td>\n      <td>ADNI3</td>\n      <td>dswauADNI_129_S_2332.nii</td>\n    </tr>\n  </tbody>\n</table>\n<p>264 rows × 12 columns</p>\n</div>"
     },
     "execution_count": 11,
     "metadata": {},
     "output_type": "execute_result"
    }
   ],
   "source": [
    "df_all = pd.merge(df_all, list_set_adjusted_all, how='left' ,on='ID')\n",
    "df_all.head(300)"
   ],
   "metadata": {
    "collapsed": false,
    "pycharm": {
     "name": "#%%\n"
    }
   }
  },
  {
   "cell_type": "code",
   "execution_count": 12,
   "outputs": [
    {
     "data": {
      "text/plain": "(264, 12)"
     },
     "execution_count": 12,
     "metadata": {},
     "output_type": "execute_result"
    }
   ],
   "source": [
    "df_all.shape"
   ],
   "metadata": {
    "collapsed": false,
    "pycharm": {
     "name": "#%%\n"
    }
   }
  },
  {
   "cell_type": "code",
   "execution_count": 13,
   "outputs": [],
   "source": [
    "df_all.to_excel('/run/media/kevrodz/Salvador/ADNI3_KEV_CLAUDIA/ADNI3_OASIS3_demographics_filenames_orig.xlsx', index=False)"
   ],
   "metadata": {
    "collapsed": false,
    "pycharm": {
     "name": "#%%\n"
    }
   }
  },
  {
   "cell_type": "code",
   "execution_count": 14,
   "outputs": [],
   "source": [
    "df_all.to_excel('ADNI3_OASIS3_demographics_filenames.xlsx', index=False)"
   ],
   "metadata": {
    "collapsed": false,
    "pycharm": {
     "name": "#%%\n"
    }
   }
  },
  {
   "cell_type": "code",
   "execution_count": 32,
   "outputs": [],
   "source": [],
   "metadata": {
    "collapsed": false,
    "pycharm": {
     "name": "#%%\n"
    }
   }
  }
 ],
 "metadata": {
  "kernelspec": {
   "display_name": "Python 3",
   "language": "python",
   "name": "python3"
  },
  "language_info": {
   "codemirror_mode": {
    "name": "ipython",
    "version": 2
   },
   "file_extension": ".py",
   "mimetype": "text/x-python",
   "name": "python",
   "nbconvert_exporter": "python",
   "pygments_lexer": "ipython2",
   "version": "2.7.6"
  }
 },
 "nbformat": 4,
 "nbformat_minor": 0
}